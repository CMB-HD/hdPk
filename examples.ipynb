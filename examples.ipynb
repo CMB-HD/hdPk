{
 "cells": [
  {
   "cell_type": "code",
   "execution_count": 1,
   "id": "14bb7552-cb0b-4a5a-8d1b-2dcf0f02ccaa",
   "metadata": {},
   "outputs": [],
   "source": [
    "import os\n",
    "import numpy as np\n",
    "import pandas as pd\n",
    "from IPython.display import display\n",
    "from hdfisher import fisher\n",
    "from hd_pk import cmb_from_pk"
   ]
  },
  {
   "cell_type": "markdown",
   "id": "2727d04c-f134-484b-94ec-bd0dc2976b4a",
   "metadata": {},
   "source": [
    "# Examples to calculate new Fisher matrices\n",
    "\n",
    "There are two main steps in the process of calculating a Fisher matrix:\n",
    "1. Calculating the numerical derivatives of the power spectra with respect to each varied parameter, and\n",
    "2. Using these derivatives, along with a covariance matrix for the spectra, to calculate the Fisher matrix itself.\n",
    "\n",
    "Below, we will give a few examples of how to calculate the derivatives in step (1). They will be listed in increasing order of complexity. Then we will show how to use them in step (2) to calculate a Fisher matrix.\n",
    "\n"
   ]
  },
  {
   "cell_type": "markdown",
   "id": "56906e38-1e8f-4d97-9e73-da72ab6a9c81",
   "metadata": {},
   "source": [
    "---\n",
    "\n",
    "---\n",
    "\n",
    "# Step 1: numerical derivatives\n",
    "\n",
    "The numerical derivatives of the CMB $TT$, $TE$, $EE$, $BB$ and CMB lensing $\\kappa\\kappa$ power spectra are calculated with the `HDFisherFromPk` class in `hd_pk/cmb_from_pk.py`. \n",
    "\n",
    "First, we will describe each of the options available in the code (many of which are not required), which are set when initializing the class. Then we will give some examples of how to use it to calculate the numerical derivatives."
   ]
  },
  {
   "cell_type": "markdown",
   "id": "08ff925a-2b9b-4dc6-aa34-81692cac0e8b",
   "metadata": {},
   "source": [
    "---\n",
    "\n",
    "## NOTE: Calculating the derivatives in parallel using MPI\n",
    "\n",
    "While MPI is not required, we _strongly_ recommend that you use MPI to calculate the numerical derivatives in parallel (especially if you are varying a large number of parameters). If you use MPI, you will need to run a Python script, rather than calculating the derivatives within a Jupyter notebook. We provide a python script, `run_examples.py`. See the instructions for how to run it under each example.\n",
    "\n",
    "__If you would prefer to calculate the derivatives inside this notebook _without_ MPI__: set `use_mpi = False` below."
   ]
  },
  {
   "cell_type": "code",
   "execution_count": 2,
   "id": "7b4cad3f-81f7-4766-abc5-40cf67aefd50",
   "metadata": {},
   "outputs": [],
   "source": [
    "use_mpi = True"
   ]
  },
  {
   "cell_type": "markdown",
   "id": "b7a24e13-8c73-41a1-8a55-151fd82a703c",
   "metadata": {},
   "source": [
    "---\n",
    "\n",
    "## Initialization of the `HDFisherFromPk` class\n",
    "\n",
    "### Required arguments \n",
    "\n",
    "There is only a single _required_ argument that must be passed to the `HDFisherFromPk` class:\n",
    "1. `output_dir` (`str`): the absolute path to the directory where you would like to save the output files.\n",
    "    - You should use a new directory for each new set of derivatives you calculate.\n",
    "    - Within this directory, two new directories will be created: one holding the theory spectra calculated when each parameter is varied up or down, and the other holding the derivatives of the spectra for each parameter.\n",
    "\n",
    "If no other arguments are passed, the derivatives will be calculated for the $\\Lambda$CDM + $N_\\mathrm{eff}$ + $\\sum m_\\nu$ parameters in a CDM-only model, using the step sizes from [MacInnis & Sehgal (2024)](https://arxiv.org/abs/2405.12220).\n",
    "\n",
    "### Optional arguments\n",
    "\n",
    "The default behavior of the first three listed below assumes that you are also using the default fiducial parameter values and step sizes. See below for information about changing the parameter values and step sizes.\n",
    "\n",
    "1. `baryonic_feedback` (`bool`, default is `False`): whether to include baryonic feedback effects.\n",
    "    - By default, if `baryonic_feedback = True`, the baryonic feedback parameter of [HMcode](https://arxiv.org/abs/2009.01858), `'HMCode_logT_AGN'`, is varied with a fiducial value of `'HMCode_logT_AGN' = 7.8`.\n",
    "2. `wdm` (`bool`, default is `False`): whether to use a warm dark matter (WDM) model, as opposed to cold dark matter (CDM), using our pre-computed transfer function.\n",
    "    - By default, if `wdm = True`, the WDM mass `'m_wdm'` will be varied, with a fiducial value of `'m_wdm' = 1` (in keV).\n",
    "3. `ksz` (`bool`, default is `False`): whether to include the kSZ effect in the temperature power spectrum.\n",
    "    - By default, if `ksz = True`, the amplitude `'A_ksz'` and slope `'n_ksz'` of the kSZ power spectrum will be varied, with fiducial values of `'A_ksz' = 1` and `'n_ksz' = 0`.\n",
    "4. `ksz_xfer_redshift` (`float` or `None`, default is `0.5`): if you set `ksz = True`, _and_ set _either_ `wdm = True` _or_ you are using your own transfer function (see below), the transfer function is applied to the kSZ spectrum at this fixed redshift.\n",
    "    - If `ksz_xfer_redshift = None`, no transfer function is applied is the kSZ spectrum.\n",
    "5. `cmb_types` (`list` of `str`, default is `['lensed', 'delensed']`): which kinds of CMB spectra to use; options include `'lensed'` and '`delensed'`.\n",
    "6. `hd_data_version` (`str`, default is `'latest'`): which version of the CMB-HD data to use.\n",
    "    - By default, the latest version of the data is used. The version used in MacInnis & Sehgal (2024) is version `'v1.1'`. See the [CMB-HD forecasting data](https://github.com/CMB-HD/hdMockData) repository for more information.\n",
    "    - For the numerical derivatives, the data version determines the multipole ranges of the spectra and the lensing noise, which is used to calculate delensed CMB spectra.\n",
    "  \n",
    "\n",
    "#### Changing the set of parameters varied, their fiducial values, or their step sizes\n",
    "\n",
    "For each parameter that is varied, we need to know its fiducial value, and its step size used to vary it up and down relative to this fiducial value. We also need to know the fiducial values of any fixed parameters that are needed to calculate the theory spectra, i.e., the parameters that we pass to CAMB (including accuracy and other CAMB parameters).\n",
    "\n",
    "\n",
    "__Using your own fiducial parameter values__:\n",
    "\n",
    "There are two ways to pass your own fiducial parameters values when initializing the `HDFisherFromPk` class: \n",
    "1. Using the `fiducial_params_dict` argument (`dict` or `None`, default is `None`): a dictionary with the parameter names as keys (`str`) and the values as the fiducial parameter values.\n",
    "    - If `fiducial_params_dict = None`, the `fiducial_params_file` is used.\n",
    "2. Using the `fiducial_params_file` argument (`str` or `None`, default is `None`): the absolute path to a YAML file holding the parameter names and values.\n",
    "    - You can look at the files `hd_pk/fisher_param_files/fiducial_params.yaml` and `hd_pk/fisher_param_files/fiducial_params_feedback.yaml` for examples without and with baryonic feedback, respectively.\n",
    "    - If `fiducial_params_file = None`, the default parameters described above are used.\n",
    "\n",
    "\n",
    "In either case, you must include:\n",
    "- _All_ parameters that should be passed to CAMB (cosmological parameters, accuracy parameters, etc.)\n",
    "- If `baryonic_feedback = True`, you must provide a fiducial value for `'HMCode_logT_AGN'`, _and_ include CAMB's  `'halofit_version'` parameter with the value set to `'mead2020_feedback'`.\n",
    "- If `ksz = True`, you must include fiducial values for `'A_ksz'` and `'n_ksz'`.\n",
    "- If `wdm = True`, you must include a fiducial value for `'m_wdm'`.\n",
    "\n",
    "\n",
    "__Using your own parameter step sizes__:\n",
    "\n",
    "You only need to provide a step size for each parameter that you want to vary for the Fisher matrix; the others will remain fixed to their fiducial values.\n",
    "- By default, we will calculate the numerical derviatives for each parameter that has a step size.\n",
    "- Each parameter that has a step size must also have a fiducial value provided.\n",
    "\n",
    "\n",
    "There are two ways to pass your own step sizes values when initializing the `HDFisherFromPk` class: \n",
    "1. Using the `fisher_steps_dict` argument (`dict` or `None`, default is `None`): a dictionary with the varied parameter names as keys (`str`) and their step sizes as the values.\n",
    "    - If `fisher_steps_dict = None`, the `fisher_steps_file` is used.\n",
    "2. Using the `fisher_steps_file` argument (`str` or `None`, default is `None`): the absolute path to a YAML file with two entries for each varied parameter name: a `step_type` (`str`), and a a `step_size` (`float`). \n",
    "    - If `fisher_steps_file = None`, we use the default step sizes from MacInnis & Sehgal (2024).\n",
    "\n",
    "\n",
    "If you use a YAML file, you can specify each step size in one of two ways. An _absolute_ step size, which is a fixed value, or a _relative_ step size, taken as a fraction of the fiducial value. For example, if your fiducial value of `'ns'` is 0.96, and you want to vary it by 1% of this fiducial value, the relevant lines in your YAML file would be:\n",
    "```\n",
    "ns:\n",
    "    step_type: relative\n",
    "    step_size: 0.01\n",
    "```\n",
    "This is equivalent to specifying an absolute step size of $\\pm$ 0.0096:\n",
    "```\n",
    "ns:\n",
    "    step_type: absolute\n",
    "    step_size: 0.0096\n",
    "```\n",
    "You can look at the files `hd_pk/fisher_param_files/fiducial_step_sizes.yaml` and `hd_pk/fisher_param_files/fiducial_step_sizes_feedback.yaml` for examples without and with baryonic feedback, respectively.\n",
    "\n",
    "\n",
    "__Changing the list of varied parameters__:\n",
    "\n",
    "You can pass a list of varied parmeter names to the `fisher_params` argument. This may be useful if you don't want to modify your dictionary or YAML holding the step sizes, but you only want to calculate derivatives for a subset of those parameters. By default, all parameters with a step size will be varied.\n",
    "\n",
    "\n",
    "#### Using your own transfer function\n",
    "\n",
    "To get a set of theory power spectra, we calculate the CMB lensing spectrum $C_L^{\\kappa\\kappa}$ from an integral over the non-linear matter power spectrum $P(k,~z)$ (obtained from CAMB), and pass this to CAMB to get the lensed CMB power spectra from the unlensed spectra. For the WDM models, we apply a transfer function $T^2_\\mathrm{WDM}(k,z) \\equiv P_\\mathrm{WDM}(k,z) / P_\\mathrm{CDM}(k,~z)$ to the CDM-only $P_\\mathrm{CDM}(k,z)$ from CAMB.\n",
    "\n",
    "We provide an option to use your own transfer function, $T^2(k,z) \\equiv P_\\mathrm{non-CDM}(k,z) / P_\\mathrm{CDM}(k,~z)$. We also allow for this transfer function to depend on _any_ parameter that you want to vary. This means that you can vary any custom parameters of your model via the transfer function; but note that the calculations done by CAMB are independent of these custom parameters.\n",
    "\n",
    "__Please see example 4 for more details__."
   ]
  },
  {
   "cell_type": "markdown",
   "id": "76d0637f-6cae-4f6e-9fed-d064c6e21673",
   "metadata": {},
   "source": [
    "---\n",
    "\n",
    "## Numerical derivatives examples\n",
    "\n",
    "These examples show how to initialize the `HDFisherFromPk` class for different cases. In each case, the derivatives are calculated and saved using the `fisher_derivs` method of the `HDFisherFromPk` class."
   ]
  },
  {
   "cell_type": "markdown",
   "id": "5d1e4f55-f2f0-4c26-a7fc-e05886a298db",
   "metadata": {},
   "source": [
    "### Example 1: CDM-only with the default fiducial parameter values and step sizes\n",
    "\n",
    "In this case, you only need to provide an `output_dir`. If the `output_dir` does not already exist, it will be created. Within it, two new directories will be created: `theory`, holding the theory spectra used in the calculation, and `derivs`, holding the derivatives themselves. \n",
    "\n",
    "Below, we have set a default output directory, named `example01`, that will be placed inside the same directory as this notebook. You can change this to be the absolute path to whichever directory you'd like to use."
   ]
  },
  {
   "cell_type": "code",
   "execution_count": 3,
   "id": "0b9b3089-e23f-4358-8fe3-5bfbd477d72f",
   "metadata": {},
   "outputs": [],
   "source": [
    "output_dir_example1 = os.path.join(os.getcwd(), 'example01')"
   ]
  },
  {
   "cell_type": "markdown",
   "id": "89694541-56c2-484c-933c-f209a370bce2",
   "metadata": {},
   "source": [
    "Now we initialize the `HDFisherFromPk` class with this `output_dir`:"
   ]
  },
  {
   "cell_type": "code",
   "execution_count": 4,
   "id": "852c62a0-6c12-4d7c-b69b-9eff50b17fa3",
   "metadata": {},
   "outputs": [],
   "source": [
    "fisherlib_example1 = cmb_from_pk.HDFisherFromPk(output_dir_example1)"
   ]
  },
  {
   "cell_type": "markdown",
   "id": "047bb715-1985-4170-90b1-0b7f742178f3",
   "metadata": {},
   "source": [
    "If you aren't using MPI to calculate the derivatives, then they will be calculated in the next cell. __Note__ that this could take over an hour, depending on your machine."
   ]
  },
  {
   "cell_type": "code",
   "execution_count": 5,
   "id": "d1438538-4711-4f79-a1de-cb9c82314b18",
   "metadata": {},
   "outputs": [],
   "source": [
    "if not use_mpi:\n",
    "    print('calculating the derivatives')\n",
    "    fisherlib_example1.fisher_derivs()"
   ]
  },
  {
   "cell_type": "markdown",
   "id": "e37f6156-b44c-4e5d-867d-9947d016f087",
   "metadata": {},
   "source": [
    "If you are using MPI, you can run the example script provided as:\n",
    "\n",
    "```\n",
    "mpirun -np <N> python run_examples.py <output_dir> 1\n",
    "```\n",
    "\n",
    "where you should replace `<N>` with the number of parallel MPI processes to use (e.g., `4` or `12` or `24` or ...; this depends on your machine), and replacing `<output_dir>` with the absolute path of the `output_dir_example1` you defined above.\n",
    "\n",
    "__Note__: if you are working on a cluster, see their documentation on using MPI; the command may differ from what's written above."
   ]
  },
  {
   "cell_type": "markdown",
   "id": "97fb2bc0-2f6e-4ff8-9d6d-aff6cfcf162a",
   "metadata": {},
   "source": [
    "Once the derivatives have been calculated, you can move on to \"step 2\" below."
   ]
  },
  {
   "cell_type": "markdown",
   "id": "47d92c1a-bab5-428c-87a8-54a1672bfadf",
   "metadata": {},
   "source": [
    "### Example 2: including the kSZ effect in a CDM-only model\n",
    "\n",
    "#### Example 2a: using the fiducial kSZ amplitude and slope\n",
    "\n",
    "The simplest way of including the kSZ effect is to pass `ksz = True`. If everything else is left to the default settings, then the two kSZ parameters `'A_ksz'` and `'n_ksz'` will automatically be varied.\n",
    "\n",
    "We have set an `output_dir` below, but you can change this to be a different directory:"
   ]
  },
  {
   "cell_type": "code",
   "execution_count": 6,
   "id": "ec6819d5-c39c-4424-a8a0-832171040388",
   "metadata": {},
   "outputs": [],
   "source": [
    "output_dir_example2a = os.path.join(os.getcwd(), 'example02a')\n",
    "fisherlib_example2a = cmb_from_pk.HDFisherFromPk(output_dir_example2a, ksz=True)"
   ]
  },
  {
   "cell_type": "code",
   "execution_count": 7,
   "id": "4652ab4f-2bec-43ed-aaee-1fc43f7cbf49",
   "metadata": {},
   "outputs": [],
   "source": [
    "if not use_mpi:\n",
    "    print('calculating the derivatives')\n",
    "    fisherlib_example2a.fisher_derivs()"
   ]
  },
  {
   "cell_type": "markdown",
   "id": "d1266a42-bd0c-4684-a722-d7c51f32a4fc",
   "metadata": {},
   "source": [
    "If you are using MPI, you can run the example script provided as:\n",
    "\n",
    "```\n",
    "mpirun -np <N> python run_examples.py <output_dir> 2a\n",
    "```\n",
    "\n",
    "where you should replace `<N>` with the number of parallel MPI processes to use, and replacing `<output_dir>` with the absolute path of the `output_dir_example2a` you defined above."
   ]
  },
  {
   "cell_type": "markdown",
   "id": "db95fcab-c6a4-443f-81eb-f28c8ab9fcb8",
   "metadata": {},
   "source": [
    "#### Example 2b: changing the fiducial kSZ amplitude and slope\n",
    "\n",
    "We model the kSZ power spectrum in CDM models as $C_\\ell^\\mathrm{kSZ} = A_\\mathrm{kSZ} \\left(\\ell / 3000\\right)^{n_\\mathrm{kSZ}} C_\\ell^{\\mathrm{kSZ},0}$, where $C_\\ell^{\\mathrm{kSZ},0}$ is a template power spectrum. This template is fixed, but note that you can effectively use any template by changing the fiducial values of `'A_ksz'` and `'n_ksz'`. \n",
    "\n",
    "The easiest way to change _only_ the fiducial values of a few parameters, but otherwise use the default values, is to use the `default_fisher_params_step_sizes` function in `cmb_from_pk.py`. This takes in a single argument, `baryonic_feedback`, which can be `True` or `False` (default is `False`). It returns two dictionaries: the first holds the fiducial parameter names and values, and the second holds the varied parameter names and their step sizes. You can update either (or both) and pass them to the `HDFisherFromPk` class.\n",
    "\n",
    "Below, we show how to change the fiducial value of `'n_ksz'` to be `-0.1`. __Note__ that, because we're overriding the default dictionaries (which include the WDM mass, `'m_wdm'`), we need to remove any unwanted parameters. "
   ]
  },
  {
   "cell_type": "code",
   "execution_count": 8,
   "id": "457df2d5-589e-4afd-a3b6-314909bb10d2",
   "metadata": {},
   "outputs": [
    {
     "name": "stdout",
     "output_type": "stream",
     "text": [
      "All parameters that have a default fiducial value (no baryonic feedback): \n",
      "\t ['ombh2', 'omch2', 'theta', 'tau', 'logA', 'As', 'ns', 'nnu', 'mnu', 'num_massive_neutrinos', 'halofit_version', 'lmax', 'NonLinear', 'AccuracyBoost', 'lAccuracyBoost', 'lSampleBoost', 'DoLateRadTruncation', 'lens_margin', 'lens_potential_accuracy', 'A_ksz', 'n_ksz', 'm_wdm']\n",
      "All parameters that have a default step size (no baryonic feedback): \n",
      "\t ['ombh2', 'omch2', 'theta', 'tau', 'logA', 'ns', 'nnu', 'mnu', 'A_ksz', 'n_ksz', 'm_wdm']\n"
     ]
    }
   ],
   "source": [
    "default_fid_params, default_step_sizes = cmb_from_pk.default_fisher_params_step_sizes(baryonic_feedback=False)\n",
    "print('All parameters that have a default fiducial value (no baryonic feedback): \\n\\t', list(default_fid_params.keys()))\n",
    "print('All parameters that have a default step size (no baryonic feedback): \\n\\t', list(default_step_sizes.keys()))"
   ]
  },
  {
   "cell_type": "code",
   "execution_count": 9,
   "id": "194c4ce1-2226-44a0-bbfd-59cf3f5eee6b",
   "metadata": {},
   "outputs": [],
   "source": [
    "# make a copy of the defaults\n",
    "example2b_fid_params = default_fid_params.copy()\n",
    "example2b_step_sizes = default_step_sizes.copy()\n",
    "\n",
    "# remove the WDM mass (not using it here):\n",
    "example2b_fid_params.pop('m_wdm', None)\n",
    "example2b_step_sizes.pop('m_wdm', None)\n",
    "\n",
    "# update the fiducial value of n_ksz:\n",
    "example2b_fid_params['n_ksz'] = -0.1"
   ]
  },
  {
   "cell_type": "markdown",
   "id": "1f0da6bd-e056-4cfd-99f2-cd6e4cac6107",
   "metadata": {},
   "source": [
    "Now we initialize the `HDFisherFromPk` class with our new fiducial parameters and step sizes dictionaries, and run the derivatives:"
   ]
  },
  {
   "cell_type": "code",
   "execution_count": 10,
   "id": "3a20f78a-e925-4e7e-8b56-d08d233954a7",
   "metadata": {},
   "outputs": [],
   "source": [
    "output_dir_example2b = os.path.join(os.getcwd(), 'example02b')\n",
    "fisherlib_example2b = cmb_from_pk.HDFisherFromPk(output_dir_example2b, ksz=True,\n",
    "                                                fiducial_params_dict=example2b_fid_params,\n",
    "                                                fisher_steps_dict=example2b_step_sizes)"
   ]
  },
  {
   "cell_type": "code",
   "execution_count": 11,
   "id": "b1982de1-741f-4c4c-9463-d62f54f5417a",
   "metadata": {},
   "outputs": [],
   "source": [
    "if not use_mpi:\n",
    "    print('calculating the derivatives')\n",
    "    fisherlib_example2b.fisher_derivs()"
   ]
  },
  {
   "cell_type": "markdown",
   "id": "9ce61f2a-84f4-4ea6-a0e5-5608b826b297",
   "metadata": {},
   "source": [
    "If you are using MPI, you can run the example script provided as:\n",
    "\n",
    "```\n",
    "mpirun -np <N> python run_examples.py <output_dir> 2b\n",
    "```\n",
    "\n",
    "where you should replace `<N>` with the number of parallel MPI processes to use, and replacing `<output_dir>` with the absolute path of the `output_dir_example2b` you defined above."
   ]
  },
  {
   "cell_type": "markdown",
   "id": "051cb59f-a356-4b1c-aae5-bb43176832f4",
   "metadata": {},
   "source": [
    "### Example 3: non-CDM models, including the kSZ effect"
   ]
  },
  {
   "cell_type": "markdown",
   "id": "872644ba-c410-408a-8acd-19e1e9746889",
   "metadata": {},
   "source": [
    "#### Example 3a: CDM + baryonic feedback\n",
    "\n",
    "To include baryonic feedback effects _and_ use the default parameter values and step sizes, you can just pass `baryonic_feedback=True` to the `HDFisherFromPk` class. \n",
    "\n",
    "__Note__ that if you use your own fiducial values and step sizes, you'll need to include the a fiducial value for the baryonic feedback parameter `'HMCode_logT_AGN'`, _and_ include CAMB's  `'halofit_version'` parameter with the value set to `'mead2020_feedback'`. We will just use the defaults in this example."
   ]
  },
  {
   "cell_type": "code",
   "execution_count": 12,
   "id": "b4a6ab31-1267-4897-9aac-54159c90fc77",
   "metadata": {},
   "outputs": [],
   "source": [
    "output_dir_example3a = os.path.join(os.getcwd(), 'example03a')\n",
    "fisherlib_example3a = cmb_from_pk.HDFisherFromPk(output_dir_example3a, ksz=True, baryonic_feedback=True)"
   ]
  },
  {
   "cell_type": "code",
   "execution_count": 13,
   "id": "397e47f0-6339-43c8-a6ea-24fb57c01045",
   "metadata": {},
   "outputs": [],
   "source": [
    "if not use_mpi:\n",
    "    print('calculating the derivatives')\n",
    "    fisherlib_example3a.fisher_derivs()"
   ]
  },
  {
   "cell_type": "markdown",
   "id": "a2644b19-5005-473a-ae99-7b57e9b7409e",
   "metadata": {},
   "source": [
    "If you are using MPI, you can run the example script provided as:\n",
    "\n",
    "```\n",
    "mpirun -np <N> python run_examples.py <output_dir> 3a\n",
    "```\n",
    "\n",
    "where you should replace `<N>` with the number of parallel MPI processes to use, and replacing `<output_dir>` with the absolute path of the `output_dir_example3a` you defined above."
   ]
  },
  {
   "cell_type": "markdown",
   "id": "642e1fe8-a0a1-43e0-9652-2819ab766380",
   "metadata": {},
   "source": [
    "#### Example 3b: 1 keV warm dark matter (WDM)\n",
    "\n",
    "To use a WDM-only model, you can pass `wdm=True` when initializing the `HDFisherFromPk` class. By default, the fiducial WDM mass is 1 keV. We will change this in example 3d below.\n",
    "\n",
    "When also including the kSZ, we model the suppression in the kSZ power due to WDM by applying the WDM transfer function at a fixed redshift, using $z = 0.5$ by default (which we use below). You can change this with the `ksz_xfer_redshift` argument."
   ]
  },
  {
   "cell_type": "code",
   "execution_count": 14,
   "id": "c0599983-fdb0-4870-9c70-3800d736226b",
   "metadata": {},
   "outputs": [],
   "source": [
    "output_dir_example3b = os.path.join(os.getcwd(), 'example03b')\n",
    "fisherlib_example3b = cmb_from_pk.HDFisherFromPk(output_dir_example3b, ksz=True, wdm=True, ksz_xfer_redshift=0.5)"
   ]
  },
  {
   "cell_type": "code",
   "execution_count": 15,
   "id": "f6350c82-eb71-4b8d-8a88-97cede06473a",
   "metadata": {},
   "outputs": [],
   "source": [
    "if not use_mpi:\n",
    "    print('calculating the derivatives')\n",
    "    fisherlib_example3b.fisher_derivs()"
   ]
  },
  {
   "cell_type": "markdown",
   "id": "f902a520-5b4c-4bec-b2ec-b962189c0807",
   "metadata": {},
   "source": [
    "If you are using MPI, you can run the example script provided as:\n",
    "\n",
    "```\n",
    "mpirun -np <N> python run_examples.py <output_dir> 3b\n",
    "```\n",
    "\n",
    "where you should replace `<N>` with the number of parallel MPI processes to use, and replacing `<output_dir>` with the absolute path of the `output_dir_example3b` you defined above."
   ]
  },
  {
   "cell_type": "markdown",
   "id": "f9c2ec9b-eca5-494b-897c-5fbe3f72db7a",
   "metadata": {},
   "source": [
    "#### Example 3c: 1 keV WDM + baryonic feedback\n",
    "\n",
    "To include both WDM and baryonic feedback effects, you should set both `baryonic_feedback=True` and `wdm=True`. Note that we do not model the suppression in the kSZ due to baryonic feedback."
   ]
  },
  {
   "cell_type": "code",
   "execution_count": 16,
   "id": "d33d102f-dd10-4274-9ab9-a22bd593fbbf",
   "metadata": {},
   "outputs": [],
   "source": [
    "output_dir_example3c = os.path.join(os.getcwd(), 'example03c')\n",
    "fisherlib_example3c = cmb_from_pk.HDFisherFromPk(output_dir_example3c, ksz=True, baryonic_feedback=True, wdm=True, ksz_xfer_redshift=0.5)"
   ]
  },
  {
   "cell_type": "code",
   "execution_count": 17,
   "id": "526db0f6-5c0e-41cc-8e5d-4c74b193f4d3",
   "metadata": {},
   "outputs": [],
   "source": [
    "if not use_mpi:\n",
    "    print('calculating the derivatives')\n",
    "    fisherlib_example3c.fisher_derivs()"
   ]
  },
  {
   "cell_type": "markdown",
   "id": "3c81670c-9466-463a-a85c-6c8e4e80f627",
   "metadata": {},
   "source": [
    "If you are using MPI, you can run the example script provided as:\n",
    "\n",
    "```\n",
    "mpirun -np <N> python run_examples.py <output_dir> 3c\n",
    "```\n",
    "\n",
    "where you should replace `<N>` with the number of parallel MPI processes to use, and replacing `<output_dir>` with the absolute path of the `output_dir_example3c` you defined above."
   ]
  },
  {
   "cell_type": "markdown",
   "id": "9d24a3b7-0cf6-4037-afce-1b5a4a9e5e77",
   "metadata": {},
   "source": [
    "#### Example 3d: changing the WDM mass\n",
    "\n",
    "We can change the WDM mass in the same way as we did for the slope of the kSZ in example 2b. Below, we will change it to 3 keV.\n",
    "\n",
    "__Note__: We provide pre-computed WDM transfer functions for integer masses ranging from 1 to 12 keV. For each mass, we also provide two transfer functions, for each WDM mass varied up or down by 10% of its value. \n",
    "- This means that when you change the fiducial WDM mass, you should also change its step size - otherwise, you'll encounter an error message when the code tries to find the correct transfer function.\n",
    "- Alternatively, if you're _only_ changing the WDM mass, you can still use the default step sizes (i.e., don't pass a dictionary or YAML file name); the default is a _relative_ step size of 10% for `'m_wdm'`."
   ]
  },
  {
   "cell_type": "code",
   "execution_count": 18,
   "id": "b7059952-6e77-41be-b47d-0b1becb0150c",
   "metadata": {},
   "outputs": [
    {
     "name": "stdout",
     "output_type": "stream",
     "text": [
      "All parameters that have a default fiducial value: \n",
      "\t ['ombh2', 'omch2', 'theta', 'tau', 'logA', 'As', 'ns', 'nnu', 'mnu', 'num_massive_neutrinos', 'halofit_version', 'HMCode_logT_AGN', 'lmax', 'NonLinear', 'AccuracyBoost', 'lAccuracyBoost', 'lSampleBoost', 'DoLateRadTruncation', 'lens_margin', 'lens_potential_accuracy', 'A_ksz', 'n_ksz', 'm_wdm']\n",
      "All parameters that have a default step size: \n",
      "\t ['ombh2', 'omch2', 'theta', 'tau', 'logA', 'ns', 'nnu', 'mnu', 'HMCode_logT_AGN', 'A_ksz', 'n_ksz', 'm_wdm']\n",
      "\n",
      "Default WDM mass +/- step size: (1 +/- 0.1) keV\n"
     ]
    }
   ],
   "source": [
    "default_fid_params_baryons, default_step_sizes_baryons = cmb_from_pk.default_fisher_params_step_sizes(baryonic_feedback=True)\n",
    "print('All parameters that have a default fiducial value: \\n\\t', list(default_fid_params_baryons.keys()))\n",
    "print('All parameters that have a default step size: \\n\\t', list(default_step_sizes_baryons.keys()))\n",
    "print(f\"\\nDefault WDM mass +/- step size: ({default_fid_params_baryons['m_wdm']} +/- {default_step_sizes_baryons['m_wdm']}) keV\")"
   ]
  },
  {
   "cell_type": "code",
   "execution_count": 19,
   "id": "d5e9181b-7df4-4bd8-9636-3edd2d35bcd1",
   "metadata": {},
   "outputs": [],
   "source": [
    "# make a copy of the defaults\n",
    "example3d_fid_params = default_fid_params_baryons.copy()\n",
    "example3d_step_sizes = default_step_sizes_baryons.copy()\n",
    "\n",
    "# update the fiducial WDM mass:\n",
    "example3d_fid_params['m_wdm'] = 3 # keV\n",
    "# update the step size to be 10% of the fiducial value:\n",
    "example3d_step_sizes['m_wdm'] = 0.1 * example3d_fid_params['m_wdm']"
   ]
  },
  {
   "cell_type": "markdown",
   "id": "dad1f362-af58-46d5-aad7-f08561d16802",
   "metadata": {},
   "source": [
    "Now, pass the new dictionaries when initializing the `HDFisherFromPk` class:"
   ]
  },
  {
   "cell_type": "code",
   "execution_count": 20,
   "id": "fbf3fa35-489b-4935-b161-d19cb04f126a",
   "metadata": {},
   "outputs": [],
   "source": [
    "output_dir_example3d = os.path.join(os.getcwd(), 'example03d')\n",
    "fisherlib_example3d = cmb_from_pk.HDFisherFromPk(output_dir_example3d, ksz=True,\n",
    "                                                 baryonic_feedback=True, wdm=True, ksz_xfer_redshift=0.5,\n",
    "                                                 fiducial_params_dict=example3d_fid_params,\n",
    "                                                 fisher_steps_dict=example3d_step_sizes) "
   ]
  },
  {
   "cell_type": "code",
   "execution_count": 21,
   "id": "2138b248-d7ac-41ad-96f0-8c0b03d779a5",
   "metadata": {},
   "outputs": [],
   "source": [
    "if not use_mpi:\n",
    "    print('calculating the derivatives')\n",
    "    fisherlib_example3d.fisher_derivs()"
   ]
  },
  {
   "cell_type": "markdown",
   "id": "1eb52f55-6fb2-4a80-90f3-827ac27ffc12",
   "metadata": {},
   "source": [
    "If you are using MPI, you can run the example script provided as:\n",
    "\n",
    "```\n",
    "mpirun -np <N> python run_examples.py <output_dir> 3d\n",
    "```\n",
    "\n",
    "where you should replace `<N>` with the number of parallel MPI processes to use, and replacing `<output_dir>` with the absolute path of the `output_dir_example3d` you defined above."
   ]
  },
  {
   "cell_type": "markdown",
   "id": "e448c8d7-6d92-494c-8291-dc10e2fc2d77",
   "metadata": {},
   "source": [
    "### Example 4: using your own transfer function\n",
    "\n",
    "As mentioned above, to calculate the CMB and CMB lensing power spectra in a non-CDM model, we apply a transfer function $T^2(k,z) \\equiv P_\\mathrm{non-CDM}(k,z) / P_\\mathrm{CDM}(k,~z)$ to the $P_\\mathrm{CDM}(k,~z)$ from CAMB, and calculate $C_L^{\\kappa\\kappa}$ by integrating $P(k,z)$ over the redshift range $z \\in [0,1100]$. We use the approximation $k \\approx (L + 1/2) / \\chi(z)$ to relate the wavenumber $k$ to a redshift $z$ at a given lensing multipole $L$, where $\\chi$ is the comoving distance.\n",
    "\n",
    "#### How to store your transfer function file(s)\n",
    "\n",
    "To obtain a transfer function that can be called at any $k$ and $z$ (within a given range of values), we interpolate it from a file that contains the transfer function evaluated at a set of redshifts and wavenumbers. In particular:\n",
    "- The first column of the file should hold the wavenumbers $k$, in units of Mpc$^{-1}$, at which the transfer function is evaluated.\n",
    "- The remaining columns should hold the transfer function evaluated at the wavenumbers in the first column and at a different, fixed redshift for each.\n",
    "- The header of the file should contain the redshifts in the columns after the first, with each column heading separated by a comma. An example header would look like: `k [1/Mpc], z = 0, z = 1, z = 2`\n",
    "\n",
    "__Note__: we take the redshift of the last column to be the $z_\\mathrm{max}$ for the transfer function. We assume the transfer function is _independent of redshift_ for $z > z_\\mathrm{max}$, and use the last column of your file as the redshift-independent transfer function. In other words, we use $T^2(k,z)$ for $z \\leq z_\\mathrm{max}$, and use $T^2(k) \\equiv T^2(k,z_\\mathrm{max})$ for $z > z_\\mathrm{max}$.\n",
    "\n",
    "#### How to initialize `HDFisherFromPk` with your transfer function\n",
    "\n",
    "To use your own transfer function, you must _at least_ provide one file, in the format described above, holding the transfer function data calculated in your fiducial cosmology. When initializing the `HDFisherFromPk` class, you will pass the absolute path to the `xfer_dir` where this file is located. You must name the file `xfer_fid.txt`. If this is all that you provide, the _same_ transfer function will be applied for each theory calculation that is used to calculate the numerical derivatives.\n",
    "\n",
    "If your transfer function depends on some set of parameters, you should also provide two files, in the same format as above, for each parameter: one calculated when that parameter is varied up by your step size, and one when the parameter is varied down. You must then pass a list of these parameter names to `xfer_params` when initializing the `HDFisherFromPk` class.\n",
    "\n",
    "For example:\n",
    "- Suppose you have a transfer function $T^2(k,z,\\alpha)$ that depends on some model parameter named $\\alpha$, and you want to vary this parameter away from a fiducial value of $\\alpha_0$ with a step size of $\\Delta\\alpha$.\n",
    "- There should be three files in the `xfer_dir`:\n",
    "    1. `xfer_fid.txt`, holding the transfer function $T^2(k,z,\\alpha_0)$ evaluated at the fiducial cosmology.\n",
    "    2. `xfer_alpha_up.txt`, holding the transfer function $T^2(k,z,\\alpha_0 + \\Delta \\alpha)$ when $\\alpha$ is varied up.\n",
    "    3. `xfer_alpha_down.txt`, holding the transfer function $T^2(k,z,\\alpha_0 - \\Delta \\alpha)$ when $\\alpha$ is varied down.\n",
    "- You should pass the `xfer_dir`, along with `xfer_params = ['alpha']`, when initializing the `HDFisherFromPk` class.\n",
    "- You should _also_ include `'alpha'` in your fiducial parameter dictionary or YAML file, with a fiducial value of $\\alpha_0$, and its step size $\\Delta \\alpha$ in the step sizes dictionary or YAML file.\n",
    "    - __Note__ that you are responsible for using consistent fiducial values and step sizes;  there is no way for the code to know if you used a different fiducial value or step size when calculating the transfer function vs. the numerical derivatives.\n",
    " \n",
    "The example above can be extended to multiple parameters. \n",
    "- You can also include parameters that are passed to CAMB, so please be careful naming your parameters.\n",
    "- __Note__ that, in addition to the CAMB parameter names, the code also uses the names `'theta'` for $100 \\theta_\\mathrm{MC}$ and `'logA'` for $\\ln(10^{10} A_\\mathrm{s})$. Please do not use these names for any other purpose."
   ]
  },
  {
   "cell_type": "markdown",
   "id": "94617d65-0f9b-4edc-94b8-5c26cce4112a",
   "metadata": {},
   "source": [
    "#### Specific example: 1 keV WDM\n",
    "\n",
    "As a specific example, we will use the same pre-computed WDM transfer function that is used when `wdm = True`. However, we'll show how to save it below, and then pass it to the `HDFisherFromPk` class as if it were any general transfer function. This transfer function depends on a single parameter, the WDM mass (in keV). We'll give this parameter a new name, `'wdm_mass'` instead of `'m_wdm'`."
   ]
  },
  {
   "cell_type": "markdown",
   "id": "f62866fe-1539-45bd-adcd-361063cc7336",
   "metadata": {},
   "source": [
    "First, we'll choose a directory where we will save the transfer functions. Below, this is set by default to be a directory `example_transfer` inside the directory where this notebook is, but you can feel free to change it."
   ]
  },
  {
   "cell_type": "code",
   "execution_count": 22,
   "id": "3e0e7d1f-e235-4ad0-8ce0-1b8912390da4",
   "metadata": {},
   "outputs": [],
   "source": [
    "xfer_dir = os.path.join(os.getcwd(), 'example_transfer')\n",
    "# create the directory, if it doesn't already exist:\n",
    "if not os.path.exists(xfer_dir):\n",
    "    os.makedirs(xfer_dir)"
   ]
  },
  {
   "cell_type": "markdown",
   "id": "06e3e043-05b6-4dfa-8dce-cebcb5d60e4b",
   "metadata": {},
   "source": [
    "Now we need to add some files to that directory. We'll start with the fiducial transfer function. We first need to define the range of wavenumbers and redshifts to use when evaluating the transfer function. We will use the non-linear WDM transfer function for $z \\leq 14$, and the Viel et. al. linear transfer function above that. \n",
    "\n",
    "The function `wdm_transfer` in `cmb_from_pk.py` will return our WDM transfer function, including the linear function above $z = 14$."
   ]
  },
  {
   "cell_type": "code",
   "execution_count": 23,
   "id": "6ecdc490-5550-48da-a672-4ef84537a826",
   "metadata": {},
   "outputs": [],
   "source": [
    "xfer_ks = np.logspace(-3, 3, 1000)\n",
    "xfer_zs = list(range(16)) # z = 15 will hold linear function\n",
    "\n",
    "# choose the WDM mass:\n",
    "wdm_mass = 1\n",
    "# we also need to define Omega_WDM and h, for the linear transfer function:\n",
    "h = 0.6736\n",
    "Omega_wdm = 0.12 / h**2\n",
    "# store arrays of the transfer function, evaluated at each redshift, in a list:\n",
    "wdm_transfer_functions = []\n",
    "for z in xfer_zs:\n",
    "    wdm_transfer = cmb_from_pk.wdm_transfer(xfer_ks, z, wdm_mass, Omega_wdm, h)\n",
    "    wdm_transfer_functions.append(wdm_transfer.copy())\n",
    "\n",
    "# save the fiducial transfer function, with a header holding information about the redshifts:\n",
    "header_col_names = ['k [Mpc^-1]'] + [f'z = {z}' for z in xfer_zs]\n",
    "header = ', '.join(header_col_names)\n",
    "save_cols = [xfer_ks] + [wdm_transfer_functions[z] for z in xfer_zs]\n",
    "np.savetxt(os.path.join(xfer_dir, 'xfer_fid.txt'), np.column_stack(save_cols), header=header)"
   ]
  },
  {
   "cell_type": "markdown",
   "id": "8a48465c-c20a-4055-8638-dd77f906d4d8",
   "metadata": {},
   "source": [
    "Now we vary the mass up and down by 10% of its fiducial value, and save those transfer functions also:"
   ]
  },
  {
   "cell_type": "code",
   "execution_count": 24,
   "id": "e00891d9-6ecf-474c-9fc9-cef96f94fe44",
   "metadata": {},
   "outputs": [],
   "source": [
    "wdm_step_size = 0.1 * wdm_mass\n",
    "wdm_mass_name = 'wdm_mass'\n",
    "\n",
    "# repeat the same calculation, now varying the WDM mass parameter up and down by its step size:\n",
    "for step_dir, mass in zip(['up', 'down'], [wdm_mass + wdm_step_size, wdm_mass - wdm_step_size]):\n",
    "    # store arrays of the transfer function, evaluated at each redshift, in a list:\n",
    "    wdm_transfer_functions = []\n",
    "    for z in xfer_zs:\n",
    "        wdm_transfer = cmb_from_pk.wdm_transfer(xfer_ks, z, mass, Omega_wdm, h)\n",
    "        wdm_transfer_functions.append(wdm_transfer.copy())\n",
    "    \n",
    "    # save the fiducial transfer function, with a header holding information about the redshifts:\n",
    "    header_col_names = ['k [Mpc^-1]'] + [f'z = {z}' for z in xfer_zs]\n",
    "    header = ', '.join(header_col_names)\n",
    "    save_cols = [xfer_ks] + [wdm_transfer_functions[z] for z in xfer_zs]\n",
    "    np.savetxt(os.path.join(xfer_dir, f'xfer_{wdm_mass_name}_{step_dir}.txt'), np.column_stack(save_cols), header=header)"
   ]
  },
  {
   "cell_type": "markdown",
   "id": "051f3656-bc38-4a58-9c41-1f3b9cd25c4c",
   "metadata": {},
   "source": [
    "Now we pass the `xfer_dir` to the `HDFisherFromPk` class, along with the list of parameters the transfer function depends on; in this case, `xfer_params = ['wdm_mass']`. We also need to add this parameter to our dictionaries of fiducial parameters and step sizes, making sure we use the same values that were used to calculate the transfer function.\n",
    "\n",
    "We will also include the kSZ effect, and apply the transfer function to it at $z = 0.5$ (which is the default)."
   ]
  },
  {
   "cell_type": "code",
   "execution_count": 25,
   "id": "d27b8702-1801-45b2-904e-f2f13857ca60",
   "metadata": {},
   "outputs": [],
   "source": [
    "output_dir_example4 = os.path.join(os.getcwd(), 'example04')\n",
    "xfer_params = ['wdm_mass']\n",
    "\n",
    "# copy the default parameter and step size dictionaries, and replace `'m_wdm'` with our `'wdm_mass'` parameter:\n",
    "default_fid_params, default_step_sizes = cmb_from_pk.default_fisher_params_step_sizes(baryonic_feedback=True)\n",
    "example4_fid_params = default_fid_params.copy()\n",
    "example4_step_sizes = default_step_sizes.copy()\n",
    "# remove the WDM mass parameter used with the precomputed transfer functions:\n",
    "example4_fid_params.pop('m_wdm', None)\n",
    "example4_step_sizes.pop('m_wdm', None)\n",
    "# add our \"new\" parameter:\n",
    "example4_fid_params['wdm_mass'] = wdm_mass\n",
    "example4_step_sizes['wdm_mass'] = wdm_step_size\n",
    "\n",
    "fisherlib_example4 = cmb_from_pk.HDFisherFromPk(output_dir_example4, \n",
    "                                                ksz=True, ksz_xfer_redshift=0.5,\n",
    "                                                fiducial_params_dict=example4_fid_params,\n",
    "                                                fisher_steps_dict=example4_step_sizes,\n",
    "                                                xfer_dir=xfer_dir, xfer_params=xfer_params) "
   ]
  },
  {
   "cell_type": "code",
   "execution_count": 26,
   "id": "c633f46f-25b2-4c4e-990a-245435eb668c",
   "metadata": {},
   "outputs": [],
   "source": [
    "if not use_mpi:\n",
    "    print('calculating the derivatives')\n",
    "    fisherlib_example4.fisher_derivs()"
   ]
  },
  {
   "cell_type": "markdown",
   "id": "5a814298-9a48-4a86-85ac-f1be7d45c9ff",
   "metadata": {},
   "source": [
    "If you are using MPI, you can run the example script provided as:\n",
    "\n",
    "```\n",
    "mpirun -np <N> python run_examples.py <output_dir> 4 --xfer_dir=<xfer_dir>\n",
    "```\n",
    "\n",
    "where you should replace `<N>` with the number of parallel MPI processes to use, replacing `<output_dir>` with the absolute path of the `output_dir_example4` you defined above, and replacing `<xfer_dir>` with the absolute path to the `xfer_dir` you defined above."
   ]
  },
  {
   "cell_type": "markdown",
   "id": "221a55bd-4ea8-4bee-b2ee-4e268f41e435",
   "metadata": {},
   "source": [
    "---\n",
    "\n",
    "---\n",
    "\n",
    "# Step 2: calculating Fisher matrices\n",
    "\n",
    "This is the easy part! \n",
    "\n",
    "If necessary, re-initialize the `HDFisherFromPk` in the same way you used when calculating the numerical derivatives. \n",
    "\n",
    "The `calc_fisher_matrix` method of the `HDFisherFromPk` class will automatically load those derivatives and the CMB-HD covariance matrix, and use them to calculate your fisher matrix. Alternatively, you can get the parameter error bars directly using the `get_fisher_errors` method. Both take in the same (optional) arguments:\n",
    "1. `priors` (`dict` or `None`, default is `None`): a dictionary with parameter names as keys are their _Gaussian_ prior as the value.\n",
    "    - __By default, no prior is applied. We strongly recommend using a prior on $\\tau$ of $\\sigma(\\tau) = 0.007$__ from _Planck_. When including baryonic feedback, we also recommend applying a 0.06% prior on $\\log_{10}(T_\\mathrm{AGN}/\\mathrm{K})$. We use both of these priors below.\n",
    "2. `params` (`list` of `str` or `None`; default is `None`): a list of parameter names to include in the Fisher matrix. By default, all parameters that were varied are included.\n",
    "3. `desi_bao` (`bool`, default is `False`): whether to combine the CMB-HD Fisher matrix with a mock DESI BAO Fisher matrix.\n",
    "4. `spectra` (`list` of `str` or `None`; default is `None`): the kinds of spectra to include in the Fisher matrix calculation. The options are `'tt'`, `'te'`, `'ee'`, `'bb'`, `'kk'` for the lensed/delensed CMB $TT$, $TE$, $EE$, $BB$ and CMB lensing $\\kappa\\kappa$ spectra, respectively. By default, all are used.\n",
    "\n",
    "The `calc_fisher_matrix` method returns a tuple of dictionaries: one holding the fisher matrices, and the second holding the list of parameters in the Fisher matrix, with the order corresponding to their order along the rows/columns of the matrix. Each dictionary has a key for each `cmb_type` (i.e. `'lensed'` and `'delensed'`) that was requested when initializing the `HDFisherFromPk` class. \n",
    "\n",
    "The `get_fisher_errors` method returns a single, nested dictionary. The first set of keys are the `cmb_types` (`'lensed'` and `'delensed'`). The dictionary for each `cmb_type` holds the parameter names as keys and their 1$\\sigma$ uncertainties as the values.\n",
    "\n",
    "---\n",
    "\n",
    "Below, we will go through each example listed above. When applicable, we will compare the results with the precomputed results from [MacInnis & Sehgal (2024)](https://arxiv.org/abs/2405.12220). In each case, we will re-initialize the `HDFisherFromPk` class; if you changed the `output_dir` when you calculated the derivatives, you'll also need to change it below (for each example you ran).\n",
    "- __Note__: the results in MacInnis & Sehgal (2024) use `hd_data_version = 'v1.1'`, but the default version when initializing the `HDFisherFromPk` is set to be the latest version. If you have trouble matching the precomputed results we provide, make sure you're using the correct version of the data.\n",
    "- Also note that the _precomputed_ Fisher matrices already have the $\\tau$ prior applied, but they do not include the SZ prior on the baryonic feedback parameter.\n",
    "\n",
    "First, we will define some constants that are the same in each case, and define some functions that will be useful when printing out the results."
   ]
  },
  {
   "cell_type": "code",
   "execution_count": 27,
   "id": "1888d035-8a7e-4d20-9e69-1aad64de4002",
   "metadata": {},
   "outputs": [],
   "source": [
    "priors = {'tau': 0.007}\n",
    "sz_prior = {'HMCode_logT_AGN': 0.0006 * 7.8} # 0.06% prior \n",
    "priors_baryons = {**priors, **sz_prior}\n",
    "desi_bao = True\n",
    "cmb_type = 'delensed'\n",
    "\n",
    "# number of digits to use when rounding the uncertainty of each parameter:\n",
    "ndigits = {'ombh2': 7, 'omch2': 6, 'logA': 5, 'ns': 5, 'tau': 5, 'theta': 7,\n",
    "           'nnu': 4, 'mnu': 4, 'HMCode_logT_AGN': 5, 'm_wdm': 4, 'A_ksz': 6,  'n_ksz': 6,\n",
    "          'wdm_mass': 4}\n",
    "\n",
    "def round_dict(d, ndigits=ndigits):\n",
    "    \"\"\"Given a dictionary `d` with numerical values, round each value \n",
    "    to the number of digits for that key, given by the `ndigits` dict.\"\"\"\n",
    "    rounded = {}\n",
    "    for key, val in d.items():\n",
    "        rounded[key] = round(val, ndigits[key])\n",
    "    return rounded\n",
    "\n",
    "def ratio(dict1, dict2, fill_value=None):\n",
    "    \"\"\"Returns a dictionary with the ratio of the values in `dict1` to those \n",
    "    in `dict2` for each key they share in common. If the keys don't match, you\n",
    "    can pass a `fill_value` as a placeholder for any keys not in both dictionaries;\n",
    "    otherwise leave it as `None` to exclude those keys from the returned dictionary.\"\"\"\n",
    "    rdict = {}\n",
    "    keys1 = list(dict1.keys())\n",
    "    keys2 = list(dict2.keys())\n",
    "    all_keys = list(set(keys1 + keys2))\n",
    "    for key in all_keys:\n",
    "        if (key in dict1) and (key in dict2):\n",
    "            rdict[key] = dict1[key] / dict2[key]\n",
    "        elif fill_value is not None:\n",
    "            rdict[key] = fill_value\n",
    "    return rdict\n",
    "\n",
    "def print_table(list_of_dicts, list_of_labels, title=None, list_of_keys=None):\n",
    "    \"\"\"\n",
    "    Display a table of keys and values held in each dictionary in the `list_of_dicts`.\n",
    "\n",
    "    list_of_dicts : a list of dictionaries; each is printed as a column, with the keys as rows.\n",
    "    list_of_labels : a list holding a column label for each dictionary in `list_of_dicts`, in\n",
    "                     the same order that they appear in `list_of_dicts`.\n",
    "    title : a title that is printed out above the table.\n",
    "    list_of_keys : a list of keys to use as the rows in the table, in the same order as they appear in the list. \n",
    "    \"\"\"\n",
    "    table = pd.DataFrame(list_of_dicts, index=list_of_labels, columns=list_of_keys)\n",
    "    table = table.T\n",
    "    title = ' ' if title is None else title\n",
    "    table.style.set_caption(title).set_table_styles([{'selector': 'caption', 'props': [('color', 'k'), ('font-size', '26px')]}])\n",
    "    print('\\n', title) \n",
    "    display(table)"
   ]
  },
  {
   "cell_type": "markdown",
   "id": "e572279c-a291-4a8b-8b5d-ed5819bc3e68",
   "metadata": {},
   "source": [
    "## Example 1\n",
    "\n",
    "Re-initialize the `HDFisherFromPk` class, changing the `output_dir` if necessary:"
   ]
  },
  {
   "cell_type": "code",
   "execution_count": 28,
   "id": "314fd36b-1894-496d-b7a2-8fcbdfd06e4d",
   "metadata": {},
   "outputs": [],
   "source": [
    "output_dir_example1 = os.path.join(os.getcwd(), 'example01')\n",
    "fisherlib_example1 = cmb_from_pk.HDFisherFromPk(output_dir_example1)"
   ]
  },
  {
   "cell_type": "markdown",
   "id": "346e7cb1-4526-4309-b136-8f3326c7dbe0",
   "metadata": {},
   "source": [
    "Get the parameter errors:"
   ]
  },
  {
   "cell_type": "code",
   "execution_count": 29,
   "id": "331e5ee9-695c-420c-a72e-1638c56d0a37",
   "metadata": {},
   "outputs": [],
   "source": [
    "errors_example1 = fisherlib_example1.get_fisher_errors(priors=priors, desi_bao=desi_bao)"
   ]
  },
  {
   "cell_type": "markdown",
   "id": "77cfa317-b23e-4e6e-b65d-811511480574",
   "metadata": {},
   "source": [
    "And we will load in the precomputed Fisher matrix for comparison:"
   ]
  },
  {
   "cell_type": "code",
   "execution_count": 30,
   "id": "36b81b43-69b8-41c6-a525-bb24e0180365",
   "metadata": {},
   "outputs": [
    {
     "name": "stdout",
     "output_type": "stream",
     "text": [
      "\n",
      "  \n"
     ]
    },
    {
     "data": {
      "text/html": [
       "<div>\n",
       "<style scoped>\n",
       "    .dataframe tbody tr th:only-of-type {\n",
       "        vertical-align: middle;\n",
       "    }\n",
       "\n",
       "    .dataframe tbody tr th {\n",
       "        vertical-align: top;\n",
       "    }\n",
       "\n",
       "    .dataframe thead th {\n",
       "        text-align: right;\n",
       "    }\n",
       "</style>\n",
       "<table border=\"1\" class=\"dataframe\">\n",
       "  <thead>\n",
       "    <tr style=\"text-align: right;\">\n",
       "      <th></th>\n",
       "      <th>(1) Your calculation</th>\n",
       "      <th>(2) Precomputed</th>\n",
       "      <th>Ratio: (1) / (2)</th>\n",
       "    </tr>\n",
       "  </thead>\n",
       "  <tbody>\n",
       "    <tr>\n",
       "      <th>logA</th>\n",
       "      <td>0.009790</td>\n",
       "      <td>0.009790</td>\n",
       "      <td>1.0</td>\n",
       "    </tr>\n",
       "    <tr>\n",
       "      <th>mnu</th>\n",
       "      <td>0.024500</td>\n",
       "      <td>0.024500</td>\n",
       "      <td>1.0</td>\n",
       "    </tr>\n",
       "    <tr>\n",
       "      <th>nnu</th>\n",
       "      <td>0.013700</td>\n",
       "      <td>0.013700</td>\n",
       "      <td>1.0</td>\n",
       "    </tr>\n",
       "    <tr>\n",
       "      <th>ns</th>\n",
       "      <td>0.001440</td>\n",
       "      <td>0.001440</td>\n",
       "      <td>1.0</td>\n",
       "    </tr>\n",
       "    <tr>\n",
       "      <th>ombh2</th>\n",
       "      <td>0.000025</td>\n",
       "      <td>0.000025</td>\n",
       "      <td>1.0</td>\n",
       "    </tr>\n",
       "    <tr>\n",
       "      <th>omch2</th>\n",
       "      <td>0.000407</td>\n",
       "      <td>0.000407</td>\n",
       "      <td>1.0</td>\n",
       "    </tr>\n",
       "    <tr>\n",
       "      <th>tau</th>\n",
       "      <td>0.005230</td>\n",
       "      <td>0.005230</td>\n",
       "      <td>1.0</td>\n",
       "    </tr>\n",
       "    <tr>\n",
       "      <th>theta</th>\n",
       "      <td>0.000059</td>\n",
       "      <td>0.000059</td>\n",
       "      <td>1.0</td>\n",
       "    </tr>\n",
       "  </tbody>\n",
       "</table>\n",
       "</div>"
      ],
      "text/plain": [
       "       (1) Your calculation  (2) Precomputed  Ratio: (1) / (2)\n",
       "logA               0.009790         0.009790               1.0\n",
       "mnu                0.024500         0.024500               1.0\n",
       "nnu                0.013700         0.013700               1.0\n",
       "ns                 0.001440         0.001440               1.0\n",
       "ombh2              0.000025         0.000025               1.0\n",
       "omch2              0.000407         0.000407               1.0\n",
       "tau                0.005230         0.005230               1.0\n",
       "theta              0.000059         0.000059               1.0"
      ]
     },
     "metadata": {},
     "output_type": "display_data"
    }
   ],
   "source": [
    "precomputed_fisher_example1, fisher_params_example1 = cmb_from_pk.load_precomputed_fisher_matrix(cmb_type, with_desi=True)\n",
    "precomputed_errors_example1 = fisher.get_fisher_errors(precomputed_fisher_example1, fisher_params_example1)\n",
    "\n",
    "# compare them\n",
    "print_table([round_dict(errors_example1[cmb_type]), round_dict(precomputed_errors_example1), \n",
    "             ratio(round_dict(errors_example1[cmb_type]), round_dict(precomputed_errors_example1))],\n",
    "            ['(1) Your calculation', '(2) Precomputed', 'Ratio: (1) / (2)'])"
   ]
  },
  {
   "cell_type": "markdown",
   "id": "806f0dc4-af50-496b-95de-4f6ef9560b69",
   "metadata": {},
   "source": [
    "## Example 2a\n",
    "\n",
    "Re-initialize the `HDFisherFromPk` class, changing the `output_dir` if necessary:"
   ]
  },
  {
   "cell_type": "code",
   "execution_count": 31,
   "id": "cd961d58-f395-4dc9-ba57-10f5458adc7f",
   "metadata": {},
   "outputs": [],
   "source": [
    "output_dir_example2a = os.path.join(os.getcwd(), 'example02a')\n",
    "fisherlib_example2a = cmb_from_pk.HDFisherFromPk(output_dir_example2a, ksz=True)"
   ]
  },
  {
   "cell_type": "markdown",
   "id": "190a7c27-f9b2-47b8-a646-9764c307c46d",
   "metadata": {},
   "source": [
    "Get the parameter errors:"
   ]
  },
  {
   "cell_type": "code",
   "execution_count": 32,
   "id": "67027d0d-fd03-42ca-9bb5-15147658773e",
   "metadata": {},
   "outputs": [],
   "source": [
    "errors_example2a = fisherlib_example2a.get_fisher_errors(priors=priors, desi_bao=desi_bao)"
   ]
  },
  {
   "cell_type": "markdown",
   "id": "e77c529e-9d21-4350-a924-b493207aff24",
   "metadata": {},
   "source": [
    "And we will load in the precomputed Fisher matrix for comparison:"
   ]
  },
  {
   "cell_type": "code",
   "execution_count": 33,
   "id": "1709c08e-4a83-42c1-a579-b5ea856fdebf",
   "metadata": {},
   "outputs": [
    {
     "name": "stdout",
     "output_type": "stream",
     "text": [
      "\n",
      "  \n"
     ]
    },
    {
     "data": {
      "text/html": [
       "<div>\n",
       "<style scoped>\n",
       "    .dataframe tbody tr th:only-of-type {\n",
       "        vertical-align: middle;\n",
       "    }\n",
       "\n",
       "    .dataframe tbody tr th {\n",
       "        vertical-align: top;\n",
       "    }\n",
       "\n",
       "    .dataframe thead th {\n",
       "        text-align: right;\n",
       "    }\n",
       "</style>\n",
       "<table border=\"1\" class=\"dataframe\">\n",
       "  <thead>\n",
       "    <tr style=\"text-align: right;\">\n",
       "      <th></th>\n",
       "      <th>(1) Your calculation</th>\n",
       "      <th>(2) Precomputed</th>\n",
       "      <th>Ratio: (1) / (2)</th>\n",
       "    </tr>\n",
       "  </thead>\n",
       "  <tbody>\n",
       "    <tr>\n",
       "      <th>A_ksz</th>\n",
       "      <td>0.000762</td>\n",
       "      <td>0.000762</td>\n",
       "      <td>1.0</td>\n",
       "    </tr>\n",
       "    <tr>\n",
       "      <th>logA</th>\n",
       "      <td>0.010370</td>\n",
       "      <td>0.010370</td>\n",
       "      <td>1.0</td>\n",
       "    </tr>\n",
       "    <tr>\n",
       "      <th>mnu</th>\n",
       "      <td>0.026500</td>\n",
       "      <td>0.026500</td>\n",
       "      <td>1.0</td>\n",
       "    </tr>\n",
       "    <tr>\n",
       "      <th>n_ksz</th>\n",
       "      <td>0.000492</td>\n",
       "      <td>0.000492</td>\n",
       "      <td>1.0</td>\n",
       "    </tr>\n",
       "    <tr>\n",
       "      <th>nnu</th>\n",
       "      <td>0.015200</td>\n",
       "      <td>0.015200</td>\n",
       "      <td>1.0</td>\n",
       "    </tr>\n",
       "    <tr>\n",
       "      <th>ns</th>\n",
       "      <td>0.001560</td>\n",
       "      <td>0.001560</td>\n",
       "      <td>1.0</td>\n",
       "    </tr>\n",
       "    <tr>\n",
       "      <th>ombh2</th>\n",
       "      <td>0.000025</td>\n",
       "      <td>0.000025</td>\n",
       "      <td>1.0</td>\n",
       "    </tr>\n",
       "    <tr>\n",
       "      <th>omch2</th>\n",
       "      <td>0.000414</td>\n",
       "      <td>0.000414</td>\n",
       "      <td>1.0</td>\n",
       "    </tr>\n",
       "    <tr>\n",
       "      <th>tau</th>\n",
       "      <td>0.005490</td>\n",
       "      <td>0.005490</td>\n",
       "      <td>1.0</td>\n",
       "    </tr>\n",
       "    <tr>\n",
       "      <th>theta</th>\n",
       "      <td>0.000060</td>\n",
       "      <td>0.000060</td>\n",
       "      <td>1.0</td>\n",
       "    </tr>\n",
       "  </tbody>\n",
       "</table>\n",
       "</div>"
      ],
      "text/plain": [
       "       (1) Your calculation  (2) Precomputed  Ratio: (1) / (2)\n",
       "A_ksz              0.000762         0.000762               1.0\n",
       "logA               0.010370         0.010370               1.0\n",
       "mnu                0.026500         0.026500               1.0\n",
       "n_ksz              0.000492         0.000492               1.0\n",
       "nnu                0.015200         0.015200               1.0\n",
       "ns                 0.001560         0.001560               1.0\n",
       "ombh2              0.000025         0.000025               1.0\n",
       "omch2              0.000414         0.000414               1.0\n",
       "tau                0.005490         0.005490               1.0\n",
       "theta              0.000060         0.000060               1.0"
      ]
     },
     "metadata": {},
     "output_type": "display_data"
    }
   ],
   "source": [
    "precomputed_fisher_example2a, fisher_params_example2a = cmb_from_pk.load_precomputed_fisher_matrix(cmb_type, with_desi=True, with_ksz=True)\n",
    "precomputed_errors_example2a = fisher.get_fisher_errors(precomputed_fisher_example2a, fisher_params_example2a)\n",
    "\n",
    "# compare them\n",
    "print_table([round_dict(errors_example2a[cmb_type]), round_dict(precomputed_errors_example2a), \n",
    "             ratio(round_dict(errors_example2a[cmb_type]), round_dict(precomputed_errors_example2a))],\n",
    "            ['(1) Your calculation', '(2) Precomputed', 'Ratio: (1) / (2)'])"
   ]
  },
  {
   "cell_type": "markdown",
   "id": "d7a3ed18-67ff-4b2c-a9fc-b788d891faa9",
   "metadata": {},
   "source": [
    "## Example 2b\n",
    "\n",
    "Re-initialize the `HDFisherFromPk` class, changing the `output_dir` if necessary:"
   ]
  },
  {
   "cell_type": "code",
   "execution_count": 34,
   "id": "10e47040-5b26-4bf2-af27-1f430fe4e8de",
   "metadata": {},
   "outputs": [],
   "source": [
    "output_dir_example2b = os.path.join(os.getcwd(), 'example02b')\n",
    "# update the fiducial value of n_ksz:\n",
    "default_fid_params, default_step_sizes = cmb_from_pk.default_fisher_params_step_sizes(baryonic_feedback=False)\n",
    "example2b_fid_params = default_fid_params.copy()\n",
    "example2b_step_sizes = default_step_sizes.copy()\n",
    "example2b_fid_params.pop('m_wdm', None)\n",
    "example2b_step_sizes.pop('m_wdm', None)\n",
    "example2b_fid_params['n_ksz'] = -0.1\n",
    "fisherlib_example2b = cmb_from_pk.HDFisherFromPk(output_dir_example2b, ksz=True,\n",
    "                                                fiducial_params_dict=example2b_fid_params,\n",
    "                                                fisher_steps_dict=example2b_step_sizes)"
   ]
  },
  {
   "cell_type": "markdown",
   "id": "e4196c8e-d2a8-40b1-8867-acbe49692975",
   "metadata": {},
   "source": [
    "Get the parameter errors:"
   ]
  },
  {
   "cell_type": "code",
   "execution_count": 35,
   "id": "0ca6374c-f764-4dde-8e6b-a45a7e856c69",
   "metadata": {},
   "outputs": [],
   "source": [
    "errors_example2b = fisherlib_example2b.get_fisher_errors(priors=priors, desi_bao=desi_bao)"
   ]
  },
  {
   "cell_type": "markdown",
   "id": "4cc84ef6-ab0d-493b-a1d9-892f6cd282d2",
   "metadata": {},
   "source": [
    "We don't have a precomputed Fisher matrix in this case, so we will just print out the results:"
   ]
  },
  {
   "cell_type": "code",
   "execution_count": 36,
   "id": "139ae03c-ee0a-4c94-9d51-1ee660072f7c",
   "metadata": {},
   "outputs": [
    {
     "name": "stdout",
     "output_type": "stream",
     "text": [
      "\n",
      "  \n"
     ]
    },
    {
     "data": {
      "text/html": [
       "<div>\n",
       "<style scoped>\n",
       "    .dataframe tbody tr th:only-of-type {\n",
       "        vertical-align: middle;\n",
       "    }\n",
       "\n",
       "    .dataframe tbody tr th {\n",
       "        vertical-align: top;\n",
       "    }\n",
       "\n",
       "    .dataframe thead th {\n",
       "        text-align: right;\n",
       "    }\n",
       "</style>\n",
       "<table border=\"1\" class=\"dataframe\">\n",
       "  <thead>\n",
       "    <tr style=\"text-align: right;\">\n",
       "      <th></th>\n",
       "      <th>Your calculation</th>\n",
       "    </tr>\n",
       "  </thead>\n",
       "  <tbody>\n",
       "    <tr>\n",
       "      <th>A_ksz</th>\n",
       "      <td>0.000832</td>\n",
       "    </tr>\n",
       "    <tr>\n",
       "      <th>logA</th>\n",
       "      <td>0.010370</td>\n",
       "    </tr>\n",
       "    <tr>\n",
       "      <th>mnu</th>\n",
       "      <td>0.026500</td>\n",
       "    </tr>\n",
       "    <tr>\n",
       "      <th>n_ksz</th>\n",
       "      <td>0.000554</td>\n",
       "    </tr>\n",
       "    <tr>\n",
       "      <th>nnu</th>\n",
       "      <td>0.015200</td>\n",
       "    </tr>\n",
       "    <tr>\n",
       "      <th>ns</th>\n",
       "      <td>0.001570</td>\n",
       "    </tr>\n",
       "    <tr>\n",
       "      <th>ombh2</th>\n",
       "      <td>0.000025</td>\n",
       "    </tr>\n",
       "    <tr>\n",
       "      <th>omch2</th>\n",
       "      <td>0.000414</td>\n",
       "    </tr>\n",
       "    <tr>\n",
       "      <th>tau</th>\n",
       "      <td>0.005490</td>\n",
       "    </tr>\n",
       "    <tr>\n",
       "      <th>theta</th>\n",
       "      <td>0.000060</td>\n",
       "    </tr>\n",
       "  </tbody>\n",
       "</table>\n",
       "</div>"
      ],
      "text/plain": [
       "       Your calculation\n",
       "A_ksz          0.000832\n",
       "logA           0.010370\n",
       "mnu            0.026500\n",
       "n_ksz          0.000554\n",
       "nnu            0.015200\n",
       "ns             0.001570\n",
       "ombh2          0.000025\n",
       "omch2          0.000414\n",
       "tau            0.005490\n",
       "theta          0.000060"
      ]
     },
     "metadata": {},
     "output_type": "display_data"
    }
   ],
   "source": [
    "print_table([round_dict(errors_example2b[cmb_type])], ['Your calculation'])"
   ]
  },
  {
   "cell_type": "markdown",
   "id": "1f1023dd-ed9f-4739-be8c-ce4c0b83450e",
   "metadata": {},
   "source": [
    "## Example 3a\n",
    "\n",
    "Re-initialize the `HDFisherFromPk` class, changing the `output_dir` if necessary:"
   ]
  },
  {
   "cell_type": "code",
   "execution_count": 37,
   "id": "60c045ee-3355-446c-b863-43ca634dd2fe",
   "metadata": {},
   "outputs": [],
   "source": [
    "output_dir_example3a = os.path.join(os.getcwd(), 'example03a')\n",
    "fisherlib_example3a = cmb_from_pk.HDFisherFromPk(output_dir_example3a, ksz=True, baryonic_feedback=True)"
   ]
  },
  {
   "cell_type": "markdown",
   "id": "eeebe329-f866-4690-b880-aaff8452e14b",
   "metadata": {},
   "source": [
    "Get the parameter errors, applying the prior on the baryonic feedback parameter:"
   ]
  },
  {
   "cell_type": "code",
   "execution_count": 38,
   "id": "be87bbbd-072a-4573-a3ae-cd76f2d893ab",
   "metadata": {},
   "outputs": [],
   "source": [
    "errors_example3a = fisherlib_example3a.get_fisher_errors(priors=priors_baryons, desi_bao=desi_bao)"
   ]
  },
  {
   "cell_type": "markdown",
   "id": "03ea068a-7405-41e7-bcb5-fe1a61c93c37",
   "metadata": {},
   "source": [
    "And we will load in the precomputed Fisher matrix for comparison:"
   ]
  },
  {
   "cell_type": "code",
   "execution_count": 39,
   "id": "e2a845a6-5629-43bc-93a8-1952d7a02a7f",
   "metadata": {},
   "outputs": [
    {
     "name": "stdout",
     "output_type": "stream",
     "text": [
      "\n",
      "  \n"
     ]
    },
    {
     "data": {
      "text/html": [
       "<div>\n",
       "<style scoped>\n",
       "    .dataframe tbody tr th:only-of-type {\n",
       "        vertical-align: middle;\n",
       "    }\n",
       "\n",
       "    .dataframe tbody tr th {\n",
       "        vertical-align: top;\n",
       "    }\n",
       "\n",
       "    .dataframe thead th {\n",
       "        text-align: right;\n",
       "    }\n",
       "</style>\n",
       "<table border=\"1\" class=\"dataframe\">\n",
       "  <thead>\n",
       "    <tr style=\"text-align: right;\">\n",
       "      <th></th>\n",
       "      <th>(1) Your calculation</th>\n",
       "      <th>(2) Precomputed</th>\n",
       "      <th>Ratio: (1) / (2)</th>\n",
       "    </tr>\n",
       "  </thead>\n",
       "  <tbody>\n",
       "    <tr>\n",
       "      <th>A_ksz</th>\n",
       "      <td>0.000750</td>\n",
       "      <td>0.000750</td>\n",
       "      <td>1.0</td>\n",
       "    </tr>\n",
       "    <tr>\n",
       "      <th>HMCode_logT_AGN</th>\n",
       "      <td>0.004650</td>\n",
       "      <td>0.004650</td>\n",
       "      <td>1.0</td>\n",
       "    </tr>\n",
       "    <tr>\n",
       "      <th>logA</th>\n",
       "      <td>0.010900</td>\n",
       "      <td>0.010900</td>\n",
       "      <td>1.0</td>\n",
       "    </tr>\n",
       "    <tr>\n",
       "      <th>mnu</th>\n",
       "      <td>0.027900</td>\n",
       "      <td>0.027900</td>\n",
       "      <td>1.0</td>\n",
       "    </tr>\n",
       "    <tr>\n",
       "      <th>n_ksz</th>\n",
       "      <td>0.000491</td>\n",
       "      <td>0.000491</td>\n",
       "      <td>1.0</td>\n",
       "    </tr>\n",
       "    <tr>\n",
       "      <th>nnu</th>\n",
       "      <td>0.015600</td>\n",
       "      <td>0.015600</td>\n",
       "      <td>1.0</td>\n",
       "    </tr>\n",
       "    <tr>\n",
       "      <th>ns</th>\n",
       "      <td>0.001600</td>\n",
       "      <td>0.001600</td>\n",
       "      <td>1.0</td>\n",
       "    </tr>\n",
       "    <tr>\n",
       "      <th>ombh2</th>\n",
       "      <td>0.000025</td>\n",
       "      <td>0.000025</td>\n",
       "      <td>1.0</td>\n",
       "    </tr>\n",
       "    <tr>\n",
       "      <th>omch2</th>\n",
       "      <td>0.000409</td>\n",
       "      <td>0.000409</td>\n",
       "      <td>1.0</td>\n",
       "    </tr>\n",
       "    <tr>\n",
       "      <th>tau</th>\n",
       "      <td>0.005770</td>\n",
       "      <td>0.005770</td>\n",
       "      <td>1.0</td>\n",
       "    </tr>\n",
       "    <tr>\n",
       "      <th>theta</th>\n",
       "      <td>0.000060</td>\n",
       "      <td>0.000060</td>\n",
       "      <td>1.0</td>\n",
       "    </tr>\n",
       "  </tbody>\n",
       "</table>\n",
       "</div>"
      ],
      "text/plain": [
       "                 (1) Your calculation  (2) Precomputed  Ratio: (1) / (2)\n",
       "A_ksz                        0.000750         0.000750               1.0\n",
       "HMCode_logT_AGN              0.004650         0.004650               1.0\n",
       "logA                         0.010900         0.010900               1.0\n",
       "mnu                          0.027900         0.027900               1.0\n",
       "n_ksz                        0.000491         0.000491               1.0\n",
       "nnu                          0.015600         0.015600               1.0\n",
       "ns                           0.001600         0.001600               1.0\n",
       "ombh2                        0.000025         0.000025               1.0\n",
       "omch2                        0.000409         0.000409               1.0\n",
       "tau                          0.005770         0.005770               1.0\n",
       "theta                        0.000060         0.000060               1.0"
      ]
     },
     "metadata": {},
     "output_type": "display_data"
    }
   ],
   "source": [
    "precomputed_fisher_example3a, fisher_params_example3a = cmb_from_pk.load_precomputed_fisher_matrix(cmb_type, with_desi=True, with_ksz=True, baryonic_feedback=True)\n",
    "# apply the SZ prior\n",
    "precomputed_fisher_example3a = fisher.add_priors(precomputed_fisher_example3a, fisher_params_example3a, sz_prior)\n",
    "precomputed_errors_example3a = fisher.get_fisher_errors(precomputed_fisher_example3a, fisher_params_example3a)\n",
    "\n",
    "# compare them\n",
    "print_table([round_dict(errors_example3a[cmb_type]), round_dict(precomputed_errors_example3a), \n",
    "             ratio(round_dict(errors_example3a[cmb_type]), round_dict(precomputed_errors_example3a))],\n",
    "            ['(1) Your calculation', '(2) Precomputed', 'Ratio: (1) / (2)'])"
   ]
  },
  {
   "cell_type": "markdown",
   "id": "24ceaf0f-2d81-4a18-a415-a7cd880b0390",
   "metadata": {},
   "source": [
    "## Example 3b\n",
    "\n",
    "Re-initialize the `HDFisherFromPk` class, changing the `output_dir` if necessary:"
   ]
  },
  {
   "cell_type": "code",
   "execution_count": 40,
   "id": "c22b312f-5885-4a42-a559-e7b5c843a6fb",
   "metadata": {},
   "outputs": [],
   "source": [
    "output_dir_example3b = os.path.join(os.getcwd(), 'example03b')\n",
    "fisherlib_example3b = cmb_from_pk.HDFisherFromPk(output_dir_example3b, ksz=True, wdm=True, ksz_xfer_redshift=0.5)"
   ]
  },
  {
   "cell_type": "markdown",
   "id": "af93f621-c141-4bff-a8f0-b7f9a6cfc89f",
   "metadata": {},
   "source": [
    "Get the parameter errors:"
   ]
  },
  {
   "cell_type": "code",
   "execution_count": 41,
   "id": "bba593f1-59c4-4079-a86e-5d78c118bf3c",
   "metadata": {},
   "outputs": [],
   "source": [
    "errors_example3b = fisherlib_example3b.get_fisher_errors(priors=priors, desi_bao=desi_bao)"
   ]
  },
  {
   "cell_type": "markdown",
   "id": "f2b41ae1-3049-4a9d-ae34-8dc27d7d0363",
   "metadata": {},
   "source": [
    "And we will load in the precomputed Fisher matrix for comparison:"
   ]
  },
  {
   "cell_type": "code",
   "execution_count": 42,
   "id": "2516abf0-f8fb-4b8a-8b2f-995e339dc40a",
   "metadata": {},
   "outputs": [
    {
     "name": "stdout",
     "output_type": "stream",
     "text": [
      "\n",
      "  \n"
     ]
    },
    {
     "data": {
      "text/html": [
       "<div>\n",
       "<style scoped>\n",
       "    .dataframe tbody tr th:only-of-type {\n",
       "        vertical-align: middle;\n",
       "    }\n",
       "\n",
       "    .dataframe tbody tr th {\n",
       "        vertical-align: top;\n",
       "    }\n",
       "\n",
       "    .dataframe thead th {\n",
       "        text-align: right;\n",
       "    }\n",
       "</style>\n",
       "<table border=\"1\" class=\"dataframe\">\n",
       "  <thead>\n",
       "    <tr style=\"text-align: right;\">\n",
       "      <th></th>\n",
       "      <th>(1) Your calculation</th>\n",
       "      <th>(2) Precomputed</th>\n",
       "      <th>Ratio: (1) / (2)</th>\n",
       "    </tr>\n",
       "  </thead>\n",
       "  <tbody>\n",
       "    <tr>\n",
       "      <th>A_ksz</th>\n",
       "      <td>0.001219</td>\n",
       "      <td>0.001219</td>\n",
       "      <td>1.0</td>\n",
       "    </tr>\n",
       "    <tr>\n",
       "      <th>logA</th>\n",
       "      <td>0.010550</td>\n",
       "      <td>0.010550</td>\n",
       "      <td>1.0</td>\n",
       "    </tr>\n",
       "    <tr>\n",
       "      <th>m_wdm</th>\n",
       "      <td>0.033900</td>\n",
       "      <td>0.033900</td>\n",
       "      <td>1.0</td>\n",
       "    </tr>\n",
       "    <tr>\n",
       "      <th>mnu</th>\n",
       "      <td>0.026900</td>\n",
       "      <td>0.026900</td>\n",
       "      <td>1.0</td>\n",
       "    </tr>\n",
       "    <tr>\n",
       "      <th>n_ksz</th>\n",
       "      <td>0.001332</td>\n",
       "      <td>0.001332</td>\n",
       "      <td>1.0</td>\n",
       "    </tr>\n",
       "    <tr>\n",
       "      <th>nnu</th>\n",
       "      <td>0.016200</td>\n",
       "      <td>0.016200</td>\n",
       "      <td>1.0</td>\n",
       "    </tr>\n",
       "    <tr>\n",
       "      <th>ns</th>\n",
       "      <td>0.001690</td>\n",
       "      <td>0.001690</td>\n",
       "      <td>1.0</td>\n",
       "    </tr>\n",
       "    <tr>\n",
       "      <th>ombh2</th>\n",
       "      <td>0.000025</td>\n",
       "      <td>0.000025</td>\n",
       "      <td>1.0</td>\n",
       "    </tr>\n",
       "    <tr>\n",
       "      <th>omch2</th>\n",
       "      <td>0.000415</td>\n",
       "      <td>0.000415</td>\n",
       "      <td>1.0</td>\n",
       "    </tr>\n",
       "    <tr>\n",
       "      <th>tau</th>\n",
       "      <td>0.005590</td>\n",
       "      <td>0.005590</td>\n",
       "      <td>1.0</td>\n",
       "    </tr>\n",
       "    <tr>\n",
       "      <th>theta</th>\n",
       "      <td>0.000060</td>\n",
       "      <td>0.000060</td>\n",
       "      <td>1.0</td>\n",
       "    </tr>\n",
       "  </tbody>\n",
       "</table>\n",
       "</div>"
      ],
      "text/plain": [
       "       (1) Your calculation  (2) Precomputed  Ratio: (1) / (2)\n",
       "A_ksz              0.001219         0.001219               1.0\n",
       "logA               0.010550         0.010550               1.0\n",
       "m_wdm              0.033900         0.033900               1.0\n",
       "mnu                0.026900         0.026900               1.0\n",
       "n_ksz              0.001332         0.001332               1.0\n",
       "nnu                0.016200         0.016200               1.0\n",
       "ns                 0.001690         0.001690               1.0\n",
       "ombh2              0.000025         0.000025               1.0\n",
       "omch2              0.000415         0.000415               1.0\n",
       "tau                0.005590         0.005590               1.0\n",
       "theta              0.000060         0.000060               1.0"
      ]
     },
     "metadata": {},
     "output_type": "display_data"
    }
   ],
   "source": [
    "precomputed_fisher_example3b, fisher_params_example3b = cmb_from_pk.load_precomputed_fisher_matrix(cmb_type, with_desi=True, with_ksz=True, m_wdm=1)\n",
    "precomputed_errors_example3b = fisher.get_fisher_errors(precomputed_fisher_example3b, fisher_params_example3b)\n",
    "\n",
    "# compare them\n",
    "print_table([round_dict(errors_example3b[cmb_type]), round_dict(precomputed_errors_example3b), \n",
    "             ratio(round_dict(errors_example3b[cmb_type]), round_dict(precomputed_errors_example3b))],\n",
    "            ['(1) Your calculation', '(2) Precomputed', 'Ratio: (1) / (2)'])"
   ]
  },
  {
   "cell_type": "markdown",
   "id": "229eb21d-5884-4a28-9038-bfe6eccc925a",
   "metadata": {},
   "source": [
    "## Example 3c\n",
    "\n",
    "Re-initialize the `HDFisherFromPk` class, changing the `output_dir` if necessary:"
   ]
  },
  {
   "cell_type": "code",
   "execution_count": 43,
   "id": "50fb0fbd-aa7d-4850-a098-022ffd153faa",
   "metadata": {},
   "outputs": [],
   "source": [
    "output_dir_example3c = os.path.join(os.getcwd(), 'example03c')\n",
    "fisherlib_example3c = cmb_from_pk.HDFisherFromPk(output_dir_example3c, ksz=True, baryonic_feedback=True, wdm=True, ksz_xfer_redshift=0.5)"
   ]
  },
  {
   "cell_type": "markdown",
   "id": "d40d8cf5-4f1b-4843-852e-9453ea721830",
   "metadata": {},
   "source": [
    "Get the parameter errors, applying the prior on the baryonic feedback parameter:"
   ]
  },
  {
   "cell_type": "code",
   "execution_count": 44,
   "id": "4f16ab0a-b3f1-46d2-90b5-eec8624d5325",
   "metadata": {},
   "outputs": [],
   "source": [
    "errors_example3c = fisherlib_example3c.get_fisher_errors(priors=priors_baryons, desi_bao=desi_bao)"
   ]
  },
  {
   "cell_type": "markdown",
   "id": "f232723e-68ba-427a-8184-9dfc200a0e8b",
   "metadata": {},
   "source": [
    "And we will load in the precomputed Fisher matrix for comparison:"
   ]
  },
  {
   "cell_type": "code",
   "execution_count": 45,
   "id": "a1660b54-623b-4f76-b452-6dfde071602f",
   "metadata": {},
   "outputs": [
    {
     "name": "stdout",
     "output_type": "stream",
     "text": [
      "\n",
      "  \n"
     ]
    },
    {
     "data": {
      "text/html": [
       "<div>\n",
       "<style scoped>\n",
       "    .dataframe tbody tr th:only-of-type {\n",
       "        vertical-align: middle;\n",
       "    }\n",
       "\n",
       "    .dataframe tbody tr th {\n",
       "        vertical-align: top;\n",
       "    }\n",
       "\n",
       "    .dataframe thead th {\n",
       "        text-align: right;\n",
       "    }\n",
       "</style>\n",
       "<table border=\"1\" class=\"dataframe\">\n",
       "  <thead>\n",
       "    <tr style=\"text-align: right;\">\n",
       "      <th></th>\n",
       "      <th>(1) Your calculation</th>\n",
       "      <th>(2) Precomputed</th>\n",
       "      <th>Ratio: (1) / (2)</th>\n",
       "    </tr>\n",
       "  </thead>\n",
       "  <tbody>\n",
       "    <tr>\n",
       "      <th>A_ksz</th>\n",
       "      <td>0.001214</td>\n",
       "      <td>0.001214</td>\n",
       "      <td>1.0</td>\n",
       "    </tr>\n",
       "    <tr>\n",
       "      <th>HMCode_logT_AGN</th>\n",
       "      <td>0.004650</td>\n",
       "      <td>0.004650</td>\n",
       "      <td>1.0</td>\n",
       "    </tr>\n",
       "    <tr>\n",
       "      <th>logA</th>\n",
       "      <td>0.010970</td>\n",
       "      <td>0.010970</td>\n",
       "      <td>1.0</td>\n",
       "    </tr>\n",
       "    <tr>\n",
       "      <th>m_wdm</th>\n",
       "      <td>0.033800</td>\n",
       "      <td>0.033800</td>\n",
       "      <td>1.0</td>\n",
       "    </tr>\n",
       "    <tr>\n",
       "      <th>mnu</th>\n",
       "      <td>0.028000</td>\n",
       "      <td>0.028000</td>\n",
       "      <td>1.0</td>\n",
       "    </tr>\n",
       "    <tr>\n",
       "      <th>n_ksz</th>\n",
       "      <td>0.001333</td>\n",
       "      <td>0.001333</td>\n",
       "      <td>1.0</td>\n",
       "    </tr>\n",
       "    <tr>\n",
       "      <th>nnu</th>\n",
       "      <td>0.016400</td>\n",
       "      <td>0.016400</td>\n",
       "      <td>1.0</td>\n",
       "    </tr>\n",
       "    <tr>\n",
       "      <th>ns</th>\n",
       "      <td>0.001710</td>\n",
       "      <td>0.001710</td>\n",
       "      <td>1.0</td>\n",
       "    </tr>\n",
       "    <tr>\n",
       "      <th>ombh2</th>\n",
       "      <td>0.000025</td>\n",
       "      <td>0.000025</td>\n",
       "      <td>1.0</td>\n",
       "    </tr>\n",
       "    <tr>\n",
       "      <th>omch2</th>\n",
       "      <td>0.000410</td>\n",
       "      <td>0.000410</td>\n",
       "      <td>1.0</td>\n",
       "    </tr>\n",
       "    <tr>\n",
       "      <th>tau</th>\n",
       "      <td>0.005800</td>\n",
       "      <td>0.005800</td>\n",
       "      <td>1.0</td>\n",
       "    </tr>\n",
       "    <tr>\n",
       "      <th>theta</th>\n",
       "      <td>0.000060</td>\n",
       "      <td>0.000060</td>\n",
       "      <td>1.0</td>\n",
       "    </tr>\n",
       "  </tbody>\n",
       "</table>\n",
       "</div>"
      ],
      "text/plain": [
       "                 (1) Your calculation  (2) Precomputed  Ratio: (1) / (2)\n",
       "A_ksz                        0.001214         0.001214               1.0\n",
       "HMCode_logT_AGN              0.004650         0.004650               1.0\n",
       "logA                         0.010970         0.010970               1.0\n",
       "m_wdm                        0.033800         0.033800               1.0\n",
       "mnu                          0.028000         0.028000               1.0\n",
       "n_ksz                        0.001333         0.001333               1.0\n",
       "nnu                          0.016400         0.016400               1.0\n",
       "ns                           0.001710         0.001710               1.0\n",
       "ombh2                        0.000025         0.000025               1.0\n",
       "omch2                        0.000410         0.000410               1.0\n",
       "tau                          0.005800         0.005800               1.0\n",
       "theta                        0.000060         0.000060               1.0"
      ]
     },
     "metadata": {},
     "output_type": "display_data"
    }
   ],
   "source": [
    "precomputed_fisher_example3c, fisher_params_example3c = cmb_from_pk.load_precomputed_fisher_matrix(cmb_type, with_desi=True, with_ksz=True, baryonic_feedback=True, m_wdm=1)\n",
    "# apply the SZ prior\n",
    "precomputed_fisher_example3c = fisher.add_priors(precomputed_fisher_example3c, fisher_params_example3c, sz_prior)\n",
    "precomputed_errors_example3c = fisher.get_fisher_errors(precomputed_fisher_example3c, fisher_params_example3c)\n",
    "\n",
    "# compare them\n",
    "print_table([round_dict(errors_example3c[cmb_type]), round_dict(precomputed_errors_example3c), \n",
    "             ratio(round_dict(errors_example3c[cmb_type]), round_dict(precomputed_errors_example3c))],\n",
    "            ['(1) Your calculation', '(2) Precomputed', 'Ratio: (1) / (2)'])"
   ]
  },
  {
   "cell_type": "markdown",
   "id": "ce44fcff-b95c-41e6-b7b4-4c4f14bc7755",
   "metadata": {},
   "source": [
    "## Example 3d\n",
    "\n",
    "Re-initialize the `HDFisherFromPk` class, changing the `output_dir` if necessary:"
   ]
  },
  {
   "cell_type": "code",
   "execution_count": 46,
   "id": "331505e2-2b1d-425e-baba-9111da2e481b",
   "metadata": {},
   "outputs": [],
   "source": [
    "output_dir_example3d = os.path.join(os.getcwd(), 'example03d')\n",
    "# update the fiducial WDM mass:\n",
    "default_fid_params_baryons, default_step_sizes_baryons = cmb_from_pk.default_fisher_params_step_sizes(baryonic_feedback=True)\n",
    "example3d_fid_params = default_fid_params_baryons.copy()\n",
    "example3d_step_sizes = default_step_sizes_baryons.copy()\n",
    "example3d_fid_params['m_wdm'] = 3 # keV\n",
    "example3d_step_sizes['m_wdm'] = 0.1 * example3d_fid_params['m_wdm']\n",
    "fisherlib_example3d = cmb_from_pk.HDFisherFromPk(output_dir_example3d, ksz=True,\n",
    "                                                 baryonic_feedback=True, wdm=True, ksz_xfer_redshift=0.5,\n",
    "                                                 fiducial_params_dict=example3d_fid_params,\n",
    "                                                 fisher_steps_dict=example3d_step_sizes) "
   ]
  },
  {
   "cell_type": "markdown",
   "id": "8a43a9d0-869e-4c2f-8598-864fc2c538ed",
   "metadata": {},
   "source": [
    "Get the parameter errors, applying the prior on the baryonic feedback parameter:"
   ]
  },
  {
   "cell_type": "code",
   "execution_count": 47,
   "id": "f2bc9239-9bf7-422d-adea-80b6ef78f76e",
   "metadata": {},
   "outputs": [],
   "source": [
    "errors_example3d = fisherlib_example3d.get_fisher_errors(priors=priors_baryons, desi_bao=desi_bao)"
   ]
  },
  {
   "cell_type": "markdown",
   "id": "df4d758c-3fc6-4a81-af01-66fdbfce3eb3",
   "metadata": {},
   "source": [
    "And we will load in the precomputed Fisher matrix for comparison:"
   ]
  },
  {
   "cell_type": "code",
   "execution_count": 48,
   "id": "66441e0c-1272-4602-a7b2-9ea1f4ae7926",
   "metadata": {},
   "outputs": [
    {
     "name": "stdout",
     "output_type": "stream",
     "text": [
      "\n",
      "  \n"
     ]
    },
    {
     "data": {
      "text/html": [
       "<div>\n",
       "<style scoped>\n",
       "    .dataframe tbody tr th:only-of-type {\n",
       "        vertical-align: middle;\n",
       "    }\n",
       "\n",
       "    .dataframe tbody tr th {\n",
       "        vertical-align: top;\n",
       "    }\n",
       "\n",
       "    .dataframe thead th {\n",
       "        text-align: right;\n",
       "    }\n",
       "</style>\n",
       "<table border=\"1\" class=\"dataframe\">\n",
       "  <thead>\n",
       "    <tr style=\"text-align: right;\">\n",
       "      <th></th>\n",
       "      <th>(1) Your calculation</th>\n",
       "      <th>(2) Precomputed</th>\n",
       "      <th>Ratio: (1) / (2)</th>\n",
       "    </tr>\n",
       "  </thead>\n",
       "  <tbody>\n",
       "    <tr>\n",
       "      <th>A_ksz</th>\n",
       "      <td>0.001125</td>\n",
       "      <td>0.001125</td>\n",
       "      <td>1.0</td>\n",
       "    </tr>\n",
       "    <tr>\n",
       "      <th>HMCode_logT_AGN</th>\n",
       "      <td>0.004650</td>\n",
       "      <td>0.004650</td>\n",
       "      <td>1.0</td>\n",
       "    </tr>\n",
       "    <tr>\n",
       "      <th>logA</th>\n",
       "      <td>0.010940</td>\n",
       "      <td>0.010940</td>\n",
       "      <td>1.0</td>\n",
       "    </tr>\n",
       "    <tr>\n",
       "      <th>m_wdm</th>\n",
       "      <td>0.306000</td>\n",
       "      <td>0.306000</td>\n",
       "      <td>1.0</td>\n",
       "    </tr>\n",
       "    <tr>\n",
       "      <th>mnu</th>\n",
       "      <td>0.027900</td>\n",
       "      <td>0.027900</td>\n",
       "      <td>1.0</td>\n",
       "    </tr>\n",
       "    <tr>\n",
       "      <th>n_ksz</th>\n",
       "      <td>0.001567</td>\n",
       "      <td>0.001567</td>\n",
       "      <td>1.0</td>\n",
       "    </tr>\n",
       "    <tr>\n",
       "      <th>nnu</th>\n",
       "      <td>0.015700</td>\n",
       "      <td>0.015700</td>\n",
       "      <td>1.0</td>\n",
       "    </tr>\n",
       "    <tr>\n",
       "      <th>ns</th>\n",
       "      <td>0.001620</td>\n",
       "      <td>0.001620</td>\n",
       "      <td>1.0</td>\n",
       "    </tr>\n",
       "    <tr>\n",
       "      <th>ombh2</th>\n",
       "      <td>0.000025</td>\n",
       "      <td>0.000025</td>\n",
       "      <td>1.0</td>\n",
       "    </tr>\n",
       "    <tr>\n",
       "      <th>omch2</th>\n",
       "      <td>0.000410</td>\n",
       "      <td>0.000410</td>\n",
       "      <td>1.0</td>\n",
       "    </tr>\n",
       "    <tr>\n",
       "      <th>tau</th>\n",
       "      <td>0.005790</td>\n",
       "      <td>0.005790</td>\n",
       "      <td>1.0</td>\n",
       "    </tr>\n",
       "    <tr>\n",
       "      <th>theta</th>\n",
       "      <td>0.000060</td>\n",
       "      <td>0.000060</td>\n",
       "      <td>1.0</td>\n",
       "    </tr>\n",
       "  </tbody>\n",
       "</table>\n",
       "</div>"
      ],
      "text/plain": [
       "                 (1) Your calculation  (2) Precomputed  Ratio: (1) / (2)\n",
       "A_ksz                        0.001125         0.001125               1.0\n",
       "HMCode_logT_AGN              0.004650         0.004650               1.0\n",
       "logA                         0.010940         0.010940               1.0\n",
       "m_wdm                        0.306000         0.306000               1.0\n",
       "mnu                          0.027900         0.027900               1.0\n",
       "n_ksz                        0.001567         0.001567               1.0\n",
       "nnu                          0.015700         0.015700               1.0\n",
       "ns                           0.001620         0.001620               1.0\n",
       "ombh2                        0.000025         0.000025               1.0\n",
       "omch2                        0.000410         0.000410               1.0\n",
       "tau                          0.005790         0.005790               1.0\n",
       "theta                        0.000060         0.000060               1.0"
      ]
     },
     "metadata": {},
     "output_type": "display_data"
    }
   ],
   "source": [
    "precomputed_fisher_example3d, fisher_params_example3d = cmb_from_pk.load_precomputed_fisher_matrix(cmb_type, with_desi=True, with_ksz=True, baryonic_feedback=True, m_wdm=3)\n",
    "# apply the SZ prior\n",
    "precomputed_fisher_example3d = fisher.add_priors(precomputed_fisher_example3d, fisher_params_example3d, sz_prior)\n",
    "precomputed_errors_example3d = fisher.get_fisher_errors(precomputed_fisher_example3d, fisher_params_example3d)\n",
    "\n",
    "# compare them\n",
    "print_table([round_dict(errors_example3d[cmb_type]), round_dict(precomputed_errors_example3d), \n",
    "             ratio(round_dict(errors_example3d[cmb_type]), round_dict(precomputed_errors_example3d))],\n",
    "            ['(1) Your calculation', '(2) Precomputed', 'Ratio: (1) / (2)'])"
   ]
  },
  {
   "cell_type": "markdown",
   "id": "4f8a1316-377f-425f-878c-5e9d174d2a30",
   "metadata": {},
   "source": [
    "## Example 4\n",
    "\n",
    "Re-initialize the `HDFisherFromPk` class, changing the `output_dir` and `xfer_dir` if necessary:"
   ]
  },
  {
   "cell_type": "code",
   "execution_count": 49,
   "id": "56746c21-4ad7-47e7-8ade-4799e2991169",
   "metadata": {},
   "outputs": [],
   "source": [
    "output_dir_example4 = os.path.join(os.getcwd(), 'example04')\n",
    "xfer_dir = os.path.join(os.getcwd(), 'example_transfer')\n",
    "xfer_params = ['wdm_mass']\n",
    "\n",
    "# copy the default parameter and step size dictionaries, and replace `'m_wdm'` with our `'wdm_mass'` parameter:\n",
    "default_fid_params, default_step_sizes = cmb_from_pk.default_fisher_params_step_sizes(baryonic_feedback=True)\n",
    "example4_fid_params = default_fid_params.copy()\n",
    "example4_step_sizes = default_step_sizes.copy()\n",
    "# remove the WDM mass parameter used with the precomputed transfer functions:\n",
    "example4_fid_params.pop('m_wdm', None)\n",
    "example4_step_sizes.pop('m_wdm', None)\n",
    "# add our \"new\" parameter:\n",
    "example4_fid_params['wdm_mass'] = wdm_mass\n",
    "example4_step_sizes['wdm_mass'] = wdm_step_size\n",
    "\n",
    "fisherlib_example4 = cmb_from_pk.HDFisherFromPk(output_dir_example4, \n",
    "                                                ksz=True, ksz_xfer_redshift=0.5,\n",
    "                                                fiducial_params_dict=example4_fid_params,\n",
    "                                                fisher_steps_dict=example4_step_sizes,\n",
    "                                                xfer_dir=xfer_dir, xfer_params=xfer_params) "
   ]
  },
  {
   "cell_type": "markdown",
   "id": "52fb2add-68c8-4f5e-a248-a50931eee326",
   "metadata": {},
   "source": [
    "Get the parameter errors, applying the prior on the baryonic feedback parameter:"
   ]
  },
  {
   "cell_type": "code",
   "execution_count": 50,
   "id": "ee8e5997-cfad-4a06-8efd-8689a26deb42",
   "metadata": {},
   "outputs": [],
   "source": [
    "errors_example4 = fisherlib_example4.get_fisher_errors(priors=priors_baryons, desi_bao=desi_bao)"
   ]
  },
  {
   "cell_type": "markdown",
   "id": "70a48d3d-0287-4af9-b2c2-4c051e28ba39",
   "metadata": {},
   "source": [
    "First we will print out the error bars, to see that the new parameter name `'wdm_mass'` was used. Then we'll change it back to `'m_wdm'` in order to compare the new calculation with the pre-computed results."
   ]
  },
  {
   "cell_type": "code",
   "execution_count": 51,
   "id": "d669e000-ef14-4129-bcdd-aed0933e1f7e",
   "metadata": {},
   "outputs": [
    {
     "name": "stdout",
     "output_type": "stream",
     "text": [
      "\n",
      "  \n"
     ]
    },
    {
     "data": {
      "text/html": [
       "<div>\n",
       "<style scoped>\n",
       "    .dataframe tbody tr th:only-of-type {\n",
       "        vertical-align: middle;\n",
       "    }\n",
       "\n",
       "    .dataframe tbody tr th {\n",
       "        vertical-align: top;\n",
       "    }\n",
       "\n",
       "    .dataframe thead th {\n",
       "        text-align: right;\n",
       "    }\n",
       "</style>\n",
       "<table border=\"1\" class=\"dataframe\">\n",
       "  <thead>\n",
       "    <tr style=\"text-align: right;\">\n",
       "      <th></th>\n",
       "      <th>Your calculation</th>\n",
       "    </tr>\n",
       "  </thead>\n",
       "  <tbody>\n",
       "    <tr>\n",
       "      <th>A_ksz</th>\n",
       "      <td>0.001214</td>\n",
       "    </tr>\n",
       "    <tr>\n",
       "      <th>HMCode_logT_AGN</th>\n",
       "      <td>0.004650</td>\n",
       "    </tr>\n",
       "    <tr>\n",
       "      <th>logA</th>\n",
       "      <td>0.010970</td>\n",
       "    </tr>\n",
       "    <tr>\n",
       "      <th>mnu</th>\n",
       "      <td>0.028000</td>\n",
       "    </tr>\n",
       "    <tr>\n",
       "      <th>n_ksz</th>\n",
       "      <td>0.001333</td>\n",
       "    </tr>\n",
       "    <tr>\n",
       "      <th>nnu</th>\n",
       "      <td>0.016400</td>\n",
       "    </tr>\n",
       "    <tr>\n",
       "      <th>ns</th>\n",
       "      <td>0.001710</td>\n",
       "    </tr>\n",
       "    <tr>\n",
       "      <th>ombh2</th>\n",
       "      <td>0.000025</td>\n",
       "    </tr>\n",
       "    <tr>\n",
       "      <th>omch2</th>\n",
       "      <td>0.000410</td>\n",
       "    </tr>\n",
       "    <tr>\n",
       "      <th>tau</th>\n",
       "      <td>0.005800</td>\n",
       "    </tr>\n",
       "    <tr>\n",
       "      <th>theta</th>\n",
       "      <td>0.000060</td>\n",
       "    </tr>\n",
       "    <tr>\n",
       "      <th>wdm_mass</th>\n",
       "      <td>0.033800</td>\n",
       "    </tr>\n",
       "  </tbody>\n",
       "</table>\n",
       "</div>"
      ],
      "text/plain": [
       "                 Your calculation\n",
       "A_ksz                    0.001214\n",
       "HMCode_logT_AGN          0.004650\n",
       "logA                     0.010970\n",
       "mnu                      0.028000\n",
       "n_ksz                    0.001333\n",
       "nnu                      0.016400\n",
       "ns                       0.001710\n",
       "ombh2                    0.000025\n",
       "omch2                    0.000410\n",
       "tau                      0.005800\n",
       "theta                    0.000060\n",
       "wdm_mass                 0.033800"
      ]
     },
     "metadata": {},
     "output_type": "display_data"
    }
   ],
   "source": [
    "print_table([round_dict(errors_example4[cmb_type])], ['Your calculation'])"
   ]
  },
  {
   "cell_type": "markdown",
   "id": "c32c95ff-c198-43a9-94e2-b93b02af6fc9",
   "metadata": {},
   "source": [
    "Now compare with the precomputed results:"
   ]
  },
  {
   "cell_type": "code",
   "execution_count": 52,
   "id": "4fcaab3d-7d23-4a17-a2ba-3f3e14da881a",
   "metadata": {},
   "outputs": [
    {
     "name": "stdout",
     "output_type": "stream",
     "text": [
      "\n",
      "  \n"
     ]
    },
    {
     "data": {
      "text/html": [
       "<div>\n",
       "<style scoped>\n",
       "    .dataframe tbody tr th:only-of-type {\n",
       "        vertical-align: middle;\n",
       "    }\n",
       "\n",
       "    .dataframe tbody tr th {\n",
       "        vertical-align: top;\n",
       "    }\n",
       "\n",
       "    .dataframe thead th {\n",
       "        text-align: right;\n",
       "    }\n",
       "</style>\n",
       "<table border=\"1\" class=\"dataframe\">\n",
       "  <thead>\n",
       "    <tr style=\"text-align: right;\">\n",
       "      <th></th>\n",
       "      <th>(1) Your calculation</th>\n",
       "      <th>(2) Precomputed</th>\n",
       "      <th>Ratio: (1) / (2)</th>\n",
       "    </tr>\n",
       "  </thead>\n",
       "  <tbody>\n",
       "    <tr>\n",
       "      <th>A_ksz</th>\n",
       "      <td>0.001214</td>\n",
       "      <td>0.001214</td>\n",
       "      <td>1.0</td>\n",
       "    </tr>\n",
       "    <tr>\n",
       "      <th>HMCode_logT_AGN</th>\n",
       "      <td>0.004650</td>\n",
       "      <td>0.004650</td>\n",
       "      <td>1.0</td>\n",
       "    </tr>\n",
       "    <tr>\n",
       "      <th>logA</th>\n",
       "      <td>0.010970</td>\n",
       "      <td>0.010970</td>\n",
       "      <td>1.0</td>\n",
       "    </tr>\n",
       "    <tr>\n",
       "      <th>mnu</th>\n",
       "      <td>0.028000</td>\n",
       "      <td>0.028000</td>\n",
       "      <td>1.0</td>\n",
       "    </tr>\n",
       "    <tr>\n",
       "      <th>n_ksz</th>\n",
       "      <td>0.001333</td>\n",
       "      <td>0.001333</td>\n",
       "      <td>1.0</td>\n",
       "    </tr>\n",
       "    <tr>\n",
       "      <th>nnu</th>\n",
       "      <td>0.016400</td>\n",
       "      <td>0.016400</td>\n",
       "      <td>1.0</td>\n",
       "    </tr>\n",
       "    <tr>\n",
       "      <th>ns</th>\n",
       "      <td>0.001710</td>\n",
       "      <td>0.001710</td>\n",
       "      <td>1.0</td>\n",
       "    </tr>\n",
       "    <tr>\n",
       "      <th>ombh2</th>\n",
       "      <td>0.000025</td>\n",
       "      <td>0.000025</td>\n",
       "      <td>1.0</td>\n",
       "    </tr>\n",
       "    <tr>\n",
       "      <th>omch2</th>\n",
       "      <td>0.000410</td>\n",
       "      <td>0.000410</td>\n",
       "      <td>1.0</td>\n",
       "    </tr>\n",
       "    <tr>\n",
       "      <th>tau</th>\n",
       "      <td>0.005800</td>\n",
       "      <td>0.005800</td>\n",
       "      <td>1.0</td>\n",
       "    </tr>\n",
       "    <tr>\n",
       "      <th>theta</th>\n",
       "      <td>0.000060</td>\n",
       "      <td>0.000060</td>\n",
       "      <td>1.0</td>\n",
       "    </tr>\n",
       "    <tr>\n",
       "      <th>m_wdm</th>\n",
       "      <td>0.033800</td>\n",
       "      <td>0.033800</td>\n",
       "      <td>1.0</td>\n",
       "    </tr>\n",
       "  </tbody>\n",
       "</table>\n",
       "</div>"
      ],
      "text/plain": [
       "                 (1) Your calculation  (2) Precomputed  Ratio: (1) / (2)\n",
       "A_ksz                        0.001214         0.001214               1.0\n",
       "HMCode_logT_AGN              0.004650         0.004650               1.0\n",
       "logA                         0.010970         0.010970               1.0\n",
       "mnu                          0.028000         0.028000               1.0\n",
       "n_ksz                        0.001333         0.001333               1.0\n",
       "nnu                          0.016400         0.016400               1.0\n",
       "ns                           0.001710         0.001710               1.0\n",
       "ombh2                        0.000025         0.000025               1.0\n",
       "omch2                        0.000410         0.000410               1.0\n",
       "tau                          0.005800         0.005800               1.0\n",
       "theta                        0.000060         0.000060               1.0\n",
       "m_wdm                        0.033800         0.033800               1.0"
      ]
     },
     "metadata": {},
     "output_type": "display_data"
    }
   ],
   "source": [
    "errors_example4[cmb_type]['m_wdm'] = errors_example4[cmb_type]['wdm_mass']\n",
    "errors_example4[cmb_type].pop('wdm_mass', None)\n",
    "\n",
    "precomputed_fisher_example4, fisher_params_example4 = cmb_from_pk.load_precomputed_fisher_matrix(cmb_type, with_desi=True, with_ksz=True, baryonic_feedback=True, m_wdm=1)\n",
    "# apply the SZ prior\n",
    "precomputed_fisher_example4 = fisher.add_priors(precomputed_fisher_example4, fisher_params_example4, sz_prior)\n",
    "precomputed_errors_example4 = fisher.get_fisher_errors(precomputed_fisher_example4, fisher_params_example4)\n",
    "\n",
    "# compare them\n",
    "print_table([round_dict(errors_example4[cmb_type]), round_dict(precomputed_errors_example4), \n",
    "             ratio(round_dict(errors_example4[cmb_type]), round_dict(precomputed_errors_example4))],\n",
    "            ['(1) Your calculation', '(2) Precomputed', 'Ratio: (1) / (2)'])"
   ]
  },
  {
   "cell_type": "code",
   "execution_count": null,
   "id": "df01dec1-f7ff-467f-87f2-31dc4d75b594",
   "metadata": {},
   "outputs": [],
   "source": []
  }
 ],
 "metadata": {
  "kernelspec": {
   "display_name": "pyenv",
   "language": "python",
   "name": "pyenv"
  },
  "language_info": {
   "codemirror_mode": {
    "name": "ipython",
    "version": 3
   },
   "file_extension": ".py",
   "mimetype": "text/x-python",
   "name": "python",
   "nbconvert_exporter": "python",
   "pygments_lexer": "ipython3",
   "version": "3.6.13"
  }
 },
 "nbformat": 4,
 "nbformat_minor": 5
}
